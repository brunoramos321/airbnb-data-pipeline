{
 "cells": [
  {
   "cell_type": "code",
   "execution_count": 62,
   "metadata": {},
   "outputs": [],
   "source": [
    "import pandas as pd"
   ]
  },
  {
   "cell_type": "code",
   "execution_count": 63,
   "metadata": {},
   "outputs": [],
   "source": [
    "import pandas as pd"
   ]
  },
  {
   "cell_type": "code",
   "execution_count": 64,
   "metadata": {},
   "outputs": [],
   "source": [
    "df = pd.read_csv('../data/amsterdam/listings.csv')\n",
    "\n"
   ]
  },
  {
   "cell_type": "code",
   "execution_count": 65,
   "metadata": {},
   "outputs": [
    {
     "name": "stdout",
     "output_type": "stream",
     "text": [
      "<class 'pandas.core.frame.DataFrame'>\n",
      "RangeIndex: 10075 entries, 0 to 10074\n",
      "Data columns (total 79 columns):\n",
      " #   Column                                        Non-Null Count  Dtype  \n",
      "---  ------                                        --------------  -----  \n",
      " 0   id                                            10075 non-null  int64  \n",
      " 1   listing_url                                   10075 non-null  object \n",
      " 2   scrape_id                                     10075 non-null  int64  \n",
      " 3   last_scraped                                  10075 non-null  object \n",
      " 4   source                                        10075 non-null  object \n",
      " 5   name                                          10075 non-null  object \n",
      " 6   description                                   9729 non-null   object \n",
      " 7   neighborhood_overview                         5332 non-null   object \n",
      " 8   picture_url                                   10075 non-null  object \n",
      " 9   host_id                                       10075 non-null  int64  \n",
      " 10  host_url                                      10075 non-null  object \n",
      " 11  host_name                                     10058 non-null  object \n",
      " 12  host_since                                    10058 non-null  object \n",
      " 13  host_location                                 8933 non-null   object \n",
      " 14  host_about                                    5315 non-null   object \n",
      " 15  host_response_time                            6192 non-null   object \n",
      " 16  host_response_rate                            6192 non-null   object \n",
      " 17  host_acceptance_rate                          7989 non-null   object \n",
      " 18  host_is_superhost                             9949 non-null   object \n",
      " 19  host_thumbnail_url                            10058 non-null  object \n",
      " 20  host_picture_url                              10058 non-null  object \n",
      " 21  host_neighbourhood                            2868 non-null   object \n",
      " 22  host_listings_count                           10058 non-null  float64\n",
      " 23  host_total_listings_count                     10058 non-null  float64\n",
      " 24  host_verifications                            10058 non-null  object \n",
      " 25  host_has_profile_pic                          10058 non-null  object \n",
      " 26  host_identity_verified                        10058 non-null  object \n",
      " 27  neighbourhood                                 5332 non-null   object \n",
      " 28  neighbourhood_cleansed                        10075 non-null  object \n",
      " 29  neighbourhood_group_cleansed                  0 non-null      float64\n",
      " 30  latitude                                      10075 non-null  float64\n",
      " 31  longitude                                     10075 non-null  float64\n",
      " 32  property_type                                 10075 non-null  object \n",
      " 33  room_type                                     10075 non-null  object \n",
      " 34  accommodates                                  10075 non-null  int64  \n",
      " 35  bathrooms                                     5960 non-null   float64\n",
      " 36  bathrooms_text                                10067 non-null  object \n",
      " 37  bedrooms                                      9783 non-null   float64\n",
      " 38  beds                                          5925 non-null   float64\n",
      " 39  amenities                                     10075 non-null  object \n",
      " 40  price                                         5911 non-null   object \n",
      " 41  minimum_nights                                10075 non-null  int64  \n",
      " 42  maximum_nights                                10075 non-null  int64  \n",
      " 43  minimum_minimum_nights                        10066 non-null  float64\n",
      " 44  maximum_minimum_nights                        10066 non-null  float64\n",
      " 45  minimum_maximum_nights                        10066 non-null  float64\n",
      " 46  maximum_maximum_nights                        10066 non-null  float64\n",
      " 47  minimum_nights_avg_ntm                        10066 non-null  float64\n",
      " 48  maximum_nights_avg_ntm                        10066 non-null  float64\n",
      " 49  calendar_updated                              0 non-null      float64\n",
      " 50  has_availability                              9720 non-null   object \n",
      " 51  availability_30                               10075 non-null  int64  \n",
      " 52  availability_60                               10075 non-null  int64  \n",
      " 53  availability_90                               10075 non-null  int64  \n",
      " 54  availability_365                              10075 non-null  int64  \n",
      " 55  calendar_last_scraped                         10075 non-null  object \n",
      " 56  number_of_reviews                             10075 non-null  int64  \n",
      " 57  number_of_reviews_ltm                         10075 non-null  int64  \n",
      " 58  number_of_reviews_l30d                        10075 non-null  int64  \n",
      " 59  availability_eoy                              10075 non-null  int64  \n",
      " 60  number_of_reviews_ly                          10075 non-null  int64  \n",
      " 61  estimated_occupancy_l365d                     10075 non-null  int64  \n",
      " 62  estimated_revenue_l365d                       5911 non-null   float64\n",
      " 63  first_review                                  8944 non-null   object \n",
      " 64  last_review                                   8944 non-null   object \n",
      " 65  review_scores_rating                          8944 non-null   float64\n",
      " 66  review_scores_accuracy                        8944 non-null   float64\n",
      " 67  review_scores_cleanliness                     8943 non-null   float64\n",
      " 68  review_scores_checkin                         8944 non-null   float64\n",
      " 69  review_scores_communication                   8944 non-null   float64\n",
      " 70  review_scores_location                        8944 non-null   float64\n",
      " 71  review_scores_value                           8944 non-null   float64\n",
      " 72  license                                       9948 non-null   object \n",
      " 73  instant_bookable                              10075 non-null  object \n",
      " 74  calculated_host_listings_count                10075 non-null  int64  \n",
      " 75  calculated_host_listings_count_entire_homes   10075 non-null  int64  \n",
      " 76  calculated_host_listings_count_private_rooms  10075 non-null  int64  \n",
      " 77  calculated_host_listings_count_shared_rooms   10075 non-null  int64  \n",
      " 78  reviews_per_month                             8944 non-null   float64\n",
      "dtypes: float64(24), int64(20), object(35)\n",
      "memory usage: 6.1+ MB\n"
     ]
    }
   ],
   "source": [
    "df.info()"
   ]
  },
  {
   "cell_type": "code",
   "execution_count": 66,
   "metadata": {},
   "outputs": [
    {
     "name": "stdout",
     "output_type": "stream",
     "text": [
      "Dropped 5 columns: ['listing_url', 'picture_url', 'host_url', 'host_thumbnail_url', 'host_picture_url']\n"
     ]
    }
   ],
   "source": [
    "# Drop all URL and image-related columns - 1\n",
    "url_cols = [col for col in df.columns if 'url' in col.lower() or 'picture' in col.lower()]\n",
    "df.drop(columns=url_cols, inplace=True)\n",
    "\n",
    "print(f\"Dropped {len(url_cols)} columns: {url_cols}\")\n"
   ]
  },
  {
   "cell_type": "code",
   "execution_count": 67,
   "metadata": {},
   "outputs": [
    {
     "name": "stdout",
     "output_type": "stream",
     "text": [
      "Dropped 5 columns: ['host_location', 'host_about', 'host_neighbourhood', 'host_verifications', 'host_identity_verified']\n"
     ]
    }
   ],
   "source": [
    "columns_to_drop = [\n",
    "    'host_location',\n",
    "    'host_about',\n",
    "    'host_neighbourhood',\n",
    "    'host_verifications',\n",
    "    'host_identity_verified'\n",
    "]\n",
    "\n",
    "df.drop(columns=columns_to_drop, inplace=True)\n",
    "\n",
    "print(f\"Dropped {len(columns_to_drop)} columns: {columns_to_drop}\")\n"
   ]
  },
  {
   "cell_type": "code",
   "execution_count": 68,
   "metadata": {},
   "outputs": [],
   "source": [
    "df.drop(columns=['calendar_updated', 'neighbourhood_group_cleansed', 'scrape_id'], inplace=True)\n"
   ]
  },
  {
   "cell_type": "code",
   "execution_count": 69,
   "metadata": {},
   "outputs": [
    {
     "name": "stdout",
     "output_type": "stream",
     "text": [
      "Remaining columns: 25\n"
     ]
    },
    {
     "data": {
      "text/html": [
       "<div>\n",
       "<style scoped>\n",
       "    .dataframe tbody tr th:only-of-type {\n",
       "        vertical-align: middle;\n",
       "    }\n",
       "\n",
       "    .dataframe tbody tr th {\n",
       "        vertical-align: top;\n",
       "    }\n",
       "\n",
       "    .dataframe thead th {\n",
       "        text-align: right;\n",
       "    }\n",
       "</style>\n",
       "<table border=\"1\" class=\"dataframe\">\n",
       "  <thead>\n",
       "    <tr style=\"text-align: right;\">\n",
       "      <th></th>\n",
       "      <th>id</th>\n",
       "      <th>host_id</th>\n",
       "      <th>host_name</th>\n",
       "      <th>neighbourhood</th>\n",
       "      <th>neighbourhood_cleansed</th>\n",
       "      <th>latitude</th>\n",
       "      <th>longitude</th>\n",
       "      <th>property_type</th>\n",
       "      <th>room_type</th>\n",
       "      <th>accommodates</th>\n",
       "      <th>...</th>\n",
       "      <th>maximum_nights</th>\n",
       "      <th>availability_365</th>\n",
       "      <th>number_of_reviews</th>\n",
       "      <th>last_review</th>\n",
       "      <th>reviews_per_month</th>\n",
       "      <th>review_scores_rating</th>\n",
       "      <th>instant_bookable</th>\n",
       "      <th>host_is_superhost</th>\n",
       "      <th>amenities</th>\n",
       "      <th>calculated_host_listings_count</th>\n",
       "    </tr>\n",
       "  </thead>\n",
       "  <tbody>\n",
       "    <tr>\n",
       "      <th>0</th>\n",
       "      <td>2818</td>\n",
       "      <td>3159</td>\n",
       "      <td>Daniel</td>\n",
       "      <td>Amsterdam, North Holland, Netherlands</td>\n",
       "      <td>Oostelijk Havengebied - Indische Buurt</td>\n",
       "      <td>52.36435</td>\n",
       "      <td>4.94358</td>\n",
       "      <td>Private room in condo</td>\n",
       "      <td>Private room</td>\n",
       "      <td>2</td>\n",
       "      <td>...</td>\n",
       "      <td>28</td>\n",
       "      <td>10</td>\n",
       "      <td>398</td>\n",
       "      <td>2025-01-03</td>\n",
       "      <td>2.05</td>\n",
       "      <td>4.91</td>\n",
       "      <td>f</td>\n",
       "      <td>t</td>\n",
       "      <td>[\"PH neutral and dermatologically tested body ...</td>\n",
       "      <td>1</td>\n",
       "    </tr>\n",
       "    <tr>\n",
       "      <th>1</th>\n",
       "      <td>27886</td>\n",
       "      <td>97647</td>\n",
       "      <td>Flip</td>\n",
       "      <td>Amsterdam, North Holland, Netherlands</td>\n",
       "      <td>Centrum-West</td>\n",
       "      <td>52.38761</td>\n",
       "      <td>4.89188</td>\n",
       "      <td>Private room in houseboat</td>\n",
       "      <td>Private room</td>\n",
       "      <td>2</td>\n",
       "      <td>...</td>\n",
       "      <td>356</td>\n",
       "      <td>88</td>\n",
       "      <td>294</td>\n",
       "      <td>2025-02-17</td>\n",
       "      <td>1.84</td>\n",
       "      <td>4.92</td>\n",
       "      <td>f</td>\n",
       "      <td>t</td>\n",
       "      <td>[\"Heating - split type ductless system\", \"Priv...</td>\n",
       "      <td>1</td>\n",
       "    </tr>\n",
       "    <tr>\n",
       "      <th>2</th>\n",
       "      <td>28871</td>\n",
       "      <td>124245</td>\n",
       "      <td>Edwin</td>\n",
       "      <td>Amsterdam, North Holland, Netherlands</td>\n",
       "      <td>Centrum-West</td>\n",
       "      <td>52.36775</td>\n",
       "      <td>4.89092</td>\n",
       "      <td>Private room in rental unit</td>\n",
       "      <td>Private room</td>\n",
       "      <td>2</td>\n",
       "      <td>...</td>\n",
       "      <td>730</td>\n",
       "      <td>84</td>\n",
       "      <td>677</td>\n",
       "      <td>2025-02-28</td>\n",
       "      <td>3.83</td>\n",
       "      <td>4.87</td>\n",
       "      <td>f</td>\n",
       "      <td>t</td>\n",
       "      <td>[\"Refrigerator\", \"Hangers\", \"Smoke alarm\", \"Cl...</td>\n",
       "      <td>2</td>\n",
       "    </tr>\n",
       "    <tr>\n",
       "      <th>3</th>\n",
       "      <td>29051</td>\n",
       "      <td>124245</td>\n",
       "      <td>Edwin</td>\n",
       "      <td>Amsterdam, North Holland, Netherlands</td>\n",
       "      <td>Centrum-Oost</td>\n",
       "      <td>52.36584</td>\n",
       "      <td>4.89111</td>\n",
       "      <td>Private room in condo</td>\n",
       "      <td>Private room</td>\n",
       "      <td>2</td>\n",
       "      <td>...</td>\n",
       "      <td>730</td>\n",
       "      <td>84</td>\n",
       "      <td>794</td>\n",
       "      <td>2025-03-02</td>\n",
       "      <td>4.67</td>\n",
       "      <td>4.81</td>\n",
       "      <td>f</td>\n",
       "      <td>t</td>\n",
       "      <td>[\"Refrigerator\", \"Hangers\", \"Smoke alarm\", \"Pr...</td>\n",
       "      <td>2</td>\n",
       "    </tr>\n",
       "    <tr>\n",
       "      <th>4</th>\n",
       "      <td>44391</td>\n",
       "      <td>194779</td>\n",
       "      <td>Jan</td>\n",
       "      <td>Amsterdam, Noord-Holland, Netherlands</td>\n",
       "      <td>Centrum-Oost</td>\n",
       "      <td>52.37168</td>\n",
       "      <td>4.91471</td>\n",
       "      <td>Entire rental unit</td>\n",
       "      <td>Entire home/apt</td>\n",
       "      <td>4</td>\n",
       "      <td>...</td>\n",
       "      <td>730</td>\n",
       "      <td>0</td>\n",
       "      <td>42</td>\n",
       "      <td>2022-08-20</td>\n",
       "      <td>0.24</td>\n",
       "      <td>4.71</td>\n",
       "      <td>f</td>\n",
       "      <td>f</td>\n",
       "      <td>[\"Private entrance\", \"Paid parking off premise...</td>\n",
       "      <td>1</td>\n",
       "    </tr>\n",
       "  </tbody>\n",
       "</table>\n",
       "<p>5 rows × 25 columns</p>\n",
       "</div>"
      ],
      "text/plain": [
       "      id  host_id host_name                          neighbourhood  \\\n",
       "0   2818     3159    Daniel  Amsterdam, North Holland, Netherlands   \n",
       "1  27886    97647      Flip  Amsterdam, North Holland, Netherlands   \n",
       "2  28871   124245     Edwin  Amsterdam, North Holland, Netherlands   \n",
       "3  29051   124245     Edwin  Amsterdam, North Holland, Netherlands   \n",
       "4  44391   194779       Jan  Amsterdam, Noord-Holland, Netherlands   \n",
       "\n",
       "                   neighbourhood_cleansed  latitude  longitude  \\\n",
       "0  Oostelijk Havengebied - Indische Buurt  52.36435    4.94358   \n",
       "1                            Centrum-West  52.38761    4.89188   \n",
       "2                            Centrum-West  52.36775    4.89092   \n",
       "3                            Centrum-Oost  52.36584    4.89111   \n",
       "4                            Centrum-Oost  52.37168    4.91471   \n",
       "\n",
       "                 property_type        room_type  accommodates  ...  \\\n",
       "0        Private room in condo     Private room             2  ...   \n",
       "1    Private room in houseboat     Private room             2  ...   \n",
       "2  Private room in rental unit     Private room             2  ...   \n",
       "3        Private room in condo     Private room             2  ...   \n",
       "4           Entire rental unit  Entire home/apt             4  ...   \n",
       "\n",
       "   maximum_nights  availability_365  number_of_reviews last_review  \\\n",
       "0              28                10                398  2025-01-03   \n",
       "1             356                88                294  2025-02-17   \n",
       "2             730                84                677  2025-02-28   \n",
       "3             730                84                794  2025-03-02   \n",
       "4             730                 0                 42  2022-08-20   \n",
       "\n",
       "   reviews_per_month  review_scores_rating  instant_bookable  \\\n",
       "0               2.05                  4.91                 f   \n",
       "1               1.84                  4.92                 f   \n",
       "2               3.83                  4.87                 f   \n",
       "3               4.67                  4.81                 f   \n",
       "4               0.24                  4.71                 f   \n",
       "\n",
       "   host_is_superhost                                          amenities  \\\n",
       "0                  t  [\"PH neutral and dermatologically tested body ...   \n",
       "1                  t  [\"Heating - split type ductless system\", \"Priv...   \n",
       "2                  t  [\"Refrigerator\", \"Hangers\", \"Smoke alarm\", \"Cl...   \n",
       "3                  t  [\"Refrigerator\", \"Hangers\", \"Smoke alarm\", \"Pr...   \n",
       "4                  f  [\"Private entrance\", \"Paid parking off premise...   \n",
       "\n",
       "   calculated_host_listings_count  \n",
       "0                               1  \n",
       "1                               1  \n",
       "2                               2  \n",
       "3                               2  \n",
       "4                               1  \n",
       "\n",
       "[5 rows x 25 columns]"
      ]
     },
     "execution_count": 69,
     "metadata": {},
     "output_type": "execute_result"
    }
   ],
   "source": [
    "import pandas as pd\n",
    "\n",
    "# Load the original listings CSV\n",
    "df = pd.read_csv(\"../data/amsterdam/listings.csv\")\n",
    "\n",
    "# Define the columns you want to KEEP\n",
    "columns_to_keep = [\n",
    "    'id', 'host_id', 'host_name',\n",
    "    'neighbourhood', 'neighbourhood_cleansed', 'latitude', 'longitude',\n",
    "    'property_type', 'room_type', 'accommodates', 'bedrooms', 'beds', 'bathrooms',\n",
    "    'price', 'minimum_nights', 'maximum_nights', 'availability_365',\n",
    "    'number_of_reviews', 'last_review', 'reviews_per_month', 'review_scores_rating',\n",
    "    'instant_bookable', 'host_is_superhost', 'amenities',\n",
    "    'calculated_host_listings_count'\n",
    "]\n",
    "\n",
    "# Keep only the selected columns\n",
    "df_cleaned = df[columns_to_keep].copy()\n",
    "\n",
    "# Preview the result\n",
    "print(f\"Remaining columns: {df_cleaned.shape[1]}\")\n",
    "df_cleaned.head()\n"
   ]
  },
  {
   "cell_type": "code",
   "execution_count": 70,
   "metadata": {},
   "outputs": [],
   "source": [
    "# Convert 't'/'f' to True/False\n",
    "df_cleaned['instant_bookable'] = df_cleaned['instant_bookable'].map({'t': True, 'f': False})\n",
    "df_cleaned['host_is_superhost'] = df_cleaned['host_is_superhost'].map({'t': True, 'f': False})\n"
   ]
  },
  {
   "cell_type": "code",
   "execution_count": 71,
   "metadata": {},
   "outputs": [
    {
     "data": {
      "text/plain": [
       "neighbourhood                     4743\n",
       "price                             4164\n",
       "beds                              4150\n",
       "bathrooms                         4115\n",
       "review_scores_rating              1131\n",
       "reviews_per_month                 1131\n",
       "last_review                       1131\n",
       "bedrooms                           292\n",
       "host_is_superhost                  126\n",
       "host_name                           17\n",
       "maximum_nights                       0\n",
       "amenities                            0\n",
       "instant_bookable                     0\n",
       "number_of_reviews                    0\n",
       "availability_365                     0\n",
       "id                                   0\n",
       "minimum_nights                       0\n",
       "host_id                              0\n",
       "accommodates                         0\n",
       "room_type                            0\n",
       "property_type                        0\n",
       "longitude                            0\n",
       "latitude                             0\n",
       "neighbourhood_cleansed               0\n",
       "calculated_host_listings_count       0\n",
       "dtype: int64"
      ]
     },
     "execution_count": 71,
     "metadata": {},
     "output_type": "execute_result"
    }
   ],
   "source": [
    "df_cleaned.isnull().sum().sort_values(ascending=False)\n"
   ]
  },
  {
   "cell_type": "code",
   "execution_count": 72,
   "metadata": {},
   "outputs": [],
   "source": [
    "# Drop rows where price is missing\n",
    "df_cleaned = df_cleaned.dropna(subset=['price'])"
   ]
  },
  {
   "cell_type": "code",
   "execution_count": 73,
   "metadata": {},
   "outputs": [
    {
     "name": "stderr",
     "output_type": "stream",
     "text": [
      "/var/folders/xb/rzlp256d1yv_tzq65s6kvnh40000gn/T/ipykernel_15450/3713023833.py:2: FutureWarning: Downcasting object dtype arrays on .fillna, .ffill, .bfill is deprecated and will change in a future version. Call result.infer_objects(copy=False) instead. To opt-in to the future behavior, set `pd.set_option('future.no_silent_downcasting', True)`\n",
      "  df_cleaned['host_is_superhost'] = df_cleaned['host_is_superhost'].fillna(False)\n"
     ]
    }
   ],
   "source": [
    "# Fill host_is_superhost missing with False (assume not a superhost)\n",
    "df_cleaned['host_is_superhost'] = df_cleaned['host_is_superhost'].fillna(False)"
   ]
  },
  {
   "cell_type": "code",
   "execution_count": 74,
   "metadata": {},
   "outputs": [],
   "source": [
    "# Fill host_name missing with \"Unknown\"\n",
    "df_cleaned['host_name'] = df_cleaned['host_name'].fillna(\"Unknown\")"
   ]
  },
  {
   "cell_type": "code",
   "execution_count": 75,
   "metadata": {},
   "outputs": [],
   "source": [
    "# Drop neighbourhood (we already have neighbourhood_cleansed)\n",
    "df_cleaned = df_cleaned.drop(columns=['neighbourhood'])"
   ]
  },
  {
   "cell_type": "code",
   "execution_count": 76,
   "metadata": {},
   "outputs": [],
   "source": [
    "# Convert null values in 'reviews_per_month' and 'review_scores_rating' to 0\n",
    "df_cleaned['reviews_per_month'] = df_cleaned['reviews_per_month'].fillna(0)\n",
    "df_cleaned['review_scores_rating'] = df_cleaned['review_scores_rating'].fillna(0)\n",
    "# Convert 'last_review' column to datetime format; invalid or missing values become NaT (null for dates)\n",
    "df_cleaned['last_review'] = pd.to_datetime(df_cleaned['last_review'], errors='coerce')\n"
   ]
  },
  {
   "cell_type": "code",
   "execution_count": 77,
   "metadata": {},
   "outputs": [],
   "source": [
    "# Filling missing bedrooms, bathrooms, and beds with the median value\n",
    "# This ensures the dataset remains complete without biasing the results with outliers\n",
    "df_cleaned['bedrooms'] = df_cleaned['bedrooms'].fillna(df_cleaned['bedrooms'].median())\n",
    "df_cleaned['bathrooms'] = df_cleaned['bathrooms'].fillna(df_cleaned['bathrooms'].median())\n",
    "df_cleaned['beds'] = df_cleaned['beds'].fillna(df_cleaned['beds'].median())"
   ]
  },
  {
   "cell_type": "code",
   "execution_count": 78,
   "metadata": {},
   "outputs": [],
   "source": [
    "# Remove dollar signs and commas, then convert to float\n",
    "df_cleaned['price'] = (\n",
    "    df_cleaned['price']\n",
    "    .replace(r'[\\$,]', '', regex=True)  # Use raw string with r'' to avoid warning\n",
    "    .astype(float)\n",
    ")"
   ]
  },
  {
   "cell_type": "code",
   "execution_count": 79,
   "metadata": {},
   "outputs": [
    {
     "data": {
      "text/plain": [
       "last_review                       730\n",
       "id                                  0\n",
       "host_id                             0\n",
       "amenities                           0\n",
       "host_is_superhost                   0\n",
       "instant_bookable                    0\n",
       "review_scores_rating                0\n",
       "reviews_per_month                   0\n",
       "number_of_reviews                   0\n",
       "availability_365                    0\n",
       "maximum_nights                      0\n",
       "minimum_nights                      0\n",
       "price                               0\n",
       "bathrooms                           0\n",
       "beds                                0\n",
       "bedrooms                            0\n",
       "accommodates                        0\n",
       "room_type                           0\n",
       "property_type                       0\n",
       "longitude                           0\n",
       "latitude                            0\n",
       "neighbourhood_cleansed              0\n",
       "host_name                           0\n",
       "calculated_host_listings_count      0\n",
       "dtype: int64"
      ]
     },
     "execution_count": 79,
     "metadata": {},
     "output_type": "execute_result"
    }
   ],
   "source": [
    "df_cleaned.isnull().sum().sort_values(ascending=False)"
   ]
  },
  {
   "cell_type": "code",
   "execution_count": 80,
   "metadata": {},
   "outputs": [
    {
     "data": {
      "text/plain": [
       "0"
      ]
     },
     "execution_count": 80,
     "metadata": {},
     "output_type": "execute_result"
    }
   ],
   "source": [
    "df_cleaned.duplicated().sum()\n"
   ]
  },
  {
   "cell_type": "code",
   "execution_count": 81,
   "metadata": {},
   "outputs": [],
   "source": [
    "# Extract popular amenities into separate boolean columns\n",
    "popular_amenities = [\n",
    "    'Wifi', 'Air conditioning', 'Heating', 'Washer', 'Dryer', 'TV',\n",
    "    'Kitchen', 'Elevator', 'Free parking on premises', 'Free street parking',\n",
    "    'Crib', 'Smoke alarm', 'Carbon monoxide alarm',\n",
    "    'Pool', 'Hot tub', 'Gym', 'Pets allowed'\n",
    "]\n",
    "\n",
    "for amenity in popular_amenities:\n",
    "    col_name = amenity.lower().replace(\" \", \"_\").replace(\"-\", \"_\")\n",
    "    df_cleaned[col_name] = df_cleaned['amenities'].apply(lambda x: amenity in x)\n",
    "\n",
    "# Drop the original 'amenities' column\n",
    "df_cleaned = df_cleaned.drop(columns=['amenities'])\n"
   ]
  },
  {
   "cell_type": "code",
   "execution_count": 82,
   "metadata": {},
   "outputs": [],
   "source": [
    "import os\n",
    "\n",
    "# This will create the 'output' folder at the right level\n",
    "os.makedirs(\"../output\", exist_ok=True)\n",
    "\n",
    "# Save the cleaned file\n",
    "df_cleaned.to_csv(\"../output/cleaned_listings_amsterdam.csv\", index=False)\n"
   ]
  },
  {
   "cell_type": "code",
   "execution_count": 88,
   "metadata": {},
   "outputs": [],
   "source": [
    "calendar_df = pd.read_csv('../data/amsterdam/calendar.csv')"
   ]
  },
  {
   "cell_type": "code",
   "execution_count": 89,
   "metadata": {},
   "outputs": [
    {
     "name": "stdout",
     "output_type": "stream",
     "text": [
      "Index(['listing_id', 'date', 'available', 'price', 'adjusted_price',\n",
      "       'minimum_nights', 'maximum_nights'],\n",
      "      dtype='object')\n"
     ]
    }
   ],
   "source": [
    "print(calendar_df.columns)\n"
   ]
  },
  {
   "cell_type": "code",
   "execution_count": 90,
   "metadata": {},
   "outputs": [
    {
     "name": "stdout",
     "output_type": "stream",
     "text": [
      "Index(['listing_id', 'date', 'available', 'price', 'minimum_nights'], dtype='object')\n"
     ]
    }
   ],
   "source": [
    "# Drop unnecessary columns\n",
    "calendar_df = calendar_df.drop(columns=['adjusted_price', 'maximum_nights'])\n",
    "\n",
    "# Optional: confirm remaining columns\n",
    "print(calendar_df.columns)\n"
   ]
  },
  {
   "cell_type": "code",
   "execution_count": null,
   "metadata": {},
   "outputs": [],
   "source": [
    "# Convert 'date' column to datetime format\n",
    "calendar_df['date'] = pd.to_datetime(calendar_df['date'], errors='coerce')\n",
    "\n"
   ]
  },
  {
   "cell_type": "code",
   "execution_count": null,
   "metadata": {},
   "outputs": [],
   "source": [
    "# Convert 'available' column from 't'/'f' to True/False\n",
    "calendar_df['available'] = calendar_df['available'].map({'t': True, 'f': False})\n"
   ]
  },
  {
   "cell_type": "code",
   "execution_count": null,
   "metadata": {},
   "outputs": [],
   "source": [
    "# convert 'price' column to numeric\n",
    "calendar_df['price'] = (\n",
    "    calendar_df['price']\n",
    "    .replace(r'[\\$,]', '', regex=True)\n",
    "    .astype(float)\n",
    ")\n"
   ]
  },
  {
   "cell_type": "code",
   "execution_count": 95,
   "metadata": {},
   "outputs": [
    {
     "data": {
      "text/plain": [
       "listing_id        0\n",
       "date              0\n",
       "available         0\n",
       "price             0\n",
       "minimum_nights    1\n",
       "dtype: int64"
      ]
     },
     "execution_count": 95,
     "metadata": {},
     "output_type": "execute_result"
    }
   ],
   "source": [
    "# Check for null values in each column\n",
    "calendar_df.isnull().sum()\n"
   ]
  },
  {
   "cell_type": "code",
   "execution_count": 96,
   "metadata": {},
   "outputs": [],
   "source": [
    "# Drop rows where 'minimum_nights' is missing\n",
    "calendar_df = calendar_df.dropna(subset=['minimum_nights'])\n"
   ]
  },
  {
   "cell_type": "code",
   "execution_count": 97,
   "metadata": {},
   "outputs": [],
   "source": [
    "import os\n",
    "\n",
    "# Make sure output directory exists\n",
    "os.makedirs(\"../output\", exist_ok=True)\n",
    "\n",
    "# Save to CSV\n",
    "calendar_df.to_csv(\"../output/cleaned_calendar_amsterdam.csv\", index=False)\n"
   ]
  },
  {
   "cell_type": "code",
   "execution_count": 98,
   "metadata": {},
   "outputs": [],
   "source": [
    "reviews_df = pd.read_csv('../data/amsterdam/reviews.csv')"
   ]
  },
  {
   "cell_type": "code",
   "execution_count": 99,
   "metadata": {},
   "outputs": [],
   "source": [
    "# Drop unnecessary columns\n",
    "reviews_df = reviews_df.drop(columns=['reviewer_name', 'reviewer_id'])\n"
   ]
  },
  {
   "cell_type": "code",
   "execution_count": 100,
   "metadata": {},
   "outputs": [],
   "source": [
    "#convert 'date' column to datetime format\n",
    "reviews_df['date'] = pd.to_datetime(reviews_df['date'], errors='coerce')\n"
   ]
  },
  {
   "cell_type": "code",
   "execution_count": 101,
   "metadata": {},
   "outputs": [
    {
     "data": {
      "text/plain": [
       "listing_id     0\n",
       "id             0\n",
       "date           0\n",
       "comments      27\n",
       "dtype: int64"
      ]
     },
     "execution_count": 101,
     "metadata": {},
     "output_type": "execute_result"
    }
   ],
   "source": [
    "reviews_df.isnull().sum()\n"
   ]
  },
  {
   "cell_type": "code",
   "execution_count": 103,
   "metadata": {},
   "outputs": [],
   "source": [
    "# Drop rows where 'comments' is missing\n",
    "reviews_df = reviews_df.dropna(subset=['comments'])\n"
   ]
  },
  {
   "cell_type": "code",
   "execution_count": 104,
   "metadata": {},
   "outputs": [],
   "source": [
    "import os\n",
    "\n",
    "# Make sure the output folder exists\n",
    "os.makedirs(\"../output\", exist_ok=True)\n",
    "\n",
    "# Save to CSV\n",
    "reviews_df.to_csv(\"../output/cleaned_reviews_amsterdam.csv\", index=False)\n"
   ]
  },
  {
   "cell_type": "code",
   "execution_count": 105,
   "metadata": {},
   "outputs": [],
   "source": [
    "df = pd.read_csv('../output/cleaned_listings_amsterdam.csv')"
   ]
  },
  {
   "cell_type": "code",
   "execution_count": 106,
   "metadata": {},
   "outputs": [
    {
     "name": "stdout",
     "output_type": "stream",
     "text": [
      "Rows with invalid latitude: Empty DataFrame\n",
      "Columns: [id, host_id, host_name, neighbourhood_cleansed, latitude, longitude, property_type, room_type, accommodates, bedrooms, beds, bathrooms, price, minimum_nights, maximum_nights, availability_365, number_of_reviews, last_review, reviews_per_month, review_scores_rating, instant_bookable, host_is_superhost, calculated_host_listings_count, wifi, air_conditioning, heating, washer, dryer, tv, kitchen, elevator, free_parking_on_premises, free_street_parking, crib, smoke_alarm, carbon_monoxide_alarm, pool, hot_tub, gym, pets_allowed]\n",
      "Index: []\n",
      "\n",
      "[0 rows x 40 columns]\n",
      "Rows with invalid longitude: Empty DataFrame\n",
      "Columns: [id, host_id, host_name, neighbourhood_cleansed, latitude, longitude, property_type, room_type, accommodates, bedrooms, beds, bathrooms, price, minimum_nights, maximum_nights, availability_365, number_of_reviews, last_review, reviews_per_month, review_scores_rating, instant_bookable, host_is_superhost, calculated_host_listings_count, wifi, air_conditioning, heating, washer, dryer, tv, kitchen, elevator, free_parking_on_premises, free_street_parking, crib, smoke_alarm, carbon_monoxide_alarm, pool, hot_tub, gym, pets_allowed]\n",
      "Index: []\n",
      "\n",
      "[0 rows x 40 columns]\n"
     ]
    }
   ],
   "source": [
    "# Check for non-numeric values in latitude\n",
    "non_numeric_latitude = df[~df['latitude'].apply(pd.to_numeric, errors='coerce').notna()]\n",
    "\n",
    "# Check for non-numeric values in longitude\n",
    "non_numeric_longitude = df[~df['longitude'].apply(pd.to_numeric, errors='coerce').notna()]\n",
    "\n",
    "# Display rows with invalid latitude or longitude\n",
    "print(\"Rows with invalid latitude:\", non_numeric_latitude)\n",
    "print(\"Rows with invalid longitude:\", non_numeric_longitude)\n"
   ]
  },
  {
   "cell_type": "code",
   "execution_count": 111,
   "metadata": {},
   "outputs": [],
   "source": [
    "df = pd.read_csv('../output/cleaned_listings_amsterdam.csv')\n",
    "\n",
    "df_calendar = pd.read_csv('../output/cleaned_calendar_amsterdam.csv')\n"
   ]
  },
  {
   "cell_type": "code",
   "execution_count": 113,
   "metadata": {},
   "outputs": [],
   "source": [
    "# Keep only rows in df_calendar where listing_id exists in df (listings)\n",
    "df_calendar_filtered = df_calendar[df_calendar[\"listing_id\"].isin(df[\"id\"])]\n",
    "\n",
    "# Save the filtered calendar to a new CSV\n",
    "df_calendar_filtered.to_csv(\"../output/cleaned_calendar_amsterdam.csv\", index=False)\n",
    "\n"
   ]
  },
  {
   "cell_type": "code",
   "execution_count": 114,
   "metadata": {},
   "outputs": [],
   "source": [
    "df_reviews = pd.read_csv('../output/cleaned_reviews_amsterdam.csv')"
   ]
  },
  {
   "cell_type": "code",
   "execution_count": 115,
   "metadata": {},
   "outputs": [],
   "source": [
    "# Keep only rows in df_reviews where listing_id exists in df (listings)\n",
    "df_reviews = df_reviews[df_reviews[\"listing_id\"].isin(df[\"id\"])]\n",
    "\n",
    "# Overwrite the original reviews CSV\n",
    "df_reviews.to_csv(\"../output/cleaned_reviews_amsterdam.csv\", index=False)\n"
   ]
  },
  {
   "cell_type": "code",
   "execution_count": 116,
   "metadata": {},
   "outputs": [],
   "source": [
    "# Add a surrogate primary key\n",
    "df_reviews.insert(0, \"review_uid\", range(1, len(df_reviews) + 1))\n",
    "\n",
    "# Save with the new column\n",
    "df_reviews.to_csv(\"../output/cleaned_reviews_amsterdam.csv\", index=False)\n"
   ]
  },
  {
   "cell_type": "code",
   "execution_count": 117,
   "metadata": {},
   "outputs": [],
   "source": [
    "df_reviews.to_csv(\"../output/cleaned_reviews_amsterdam.csv\", index=False, quoting=1)\n"
   ]
  },
  {
   "cell_type": "code",
   "execution_count": 119,
   "metadata": {},
   "outputs": [],
   "source": [
    "\n",
    "import csv\n",
    "\n",
    "df_reviews.to_csv(\n",
    "    \"../output/cleaned_reviews_amsterdam.csv\",\n",
    "    index=False,\n",
    "    encoding=\"utf-8\",\n",
    "    quoting=csv.QUOTE_ALL,\n",
    "    quotechar='\"',\n",
    "    escapechar='\\\\',\n",
    "    lineterminator='\\n'\n",
    ")\n",
    "\n"
   ]
  },
  {
   "cell_type": "code",
   "execution_count": 120,
   "metadata": {},
   "outputs": [],
   "source": [
    "import csv\n",
    "\n",
    "# Keep only reviews for listings that exist\n",
    "df_reviews = df_reviews[df_reviews[\"listing_id\"].isin(df[\"id\"])]\n",
    "\n",
    "# Save with proper quoting and escaping\n",
    "df_reviews.to_csv(\n",
    "    \"../output/cleaned_reviews_amsterdam.csv\",\n",
    "    index=False,\n",
    "    encoding=\"utf-8\",\n",
    "    quoting=csv.QUOTE_ALL,\n",
    "    quotechar='\"',\n",
    "    escapechar='\\\\',\n",
    "    lineterminator='\\n'\n",
    ")\n"
   ]
  },
  {
   "cell_type": "code",
   "execution_count": 121,
   "metadata": {},
   "outputs": [
    {
     "name": "stdout",
     "output_type": "stream",
     "text": [
      "Total rows: 371549\n",
      "Invalid listing_ids: 0\n"
     ]
    },
    {
     "data": {
      "text/plain": [
       "Series([], Name: count, dtype: int64)"
      ]
     },
     "execution_count": 121,
     "metadata": {},
     "output_type": "execute_result"
    }
   ],
   "source": [
    "# Load listings and reviews (just to be sure)\n",
    "df = pd.read_csv(\"../output/cleaned_listings_amsterdam.csv\")\n",
    "df_reviews = pd.read_csv(\"../output/cleaned_reviews_amsterdam.csv\")\n",
    "\n",
    "# Check how many rows are NOT in listings\n",
    "invalid = df_reviews[~df_reviews[\"listing_id\"].isin(df[\"id\"])]\n",
    "\n",
    "print(f\"Total rows: {df_reviews.shape[0]}\")\n",
    "print(f\"Invalid listing_ids: {invalid.shape[0]}\")\n",
    "invalid[\"listing_id\"].value_counts().head()\n"
   ]
  },
  {
   "cell_type": "code",
   "execution_count": 122,
   "metadata": {},
   "outputs": [],
   "source": [
    "import csv\n",
    "\n",
    "# Filter for valid listing_ids\n",
    "df_reviews = df_reviews[df_reviews[\"listing_id\"].isin(df[\"id\"])]\n",
    "\n",
    "# Overwrite the file (again)\n",
    "df_reviews.to_csv(\n",
    "    \"../output/cleaned_reviews_amsterdam.csv\",\n",
    "    index=False,\n",
    "    encoding=\"utf-8\",\n",
    "    quoting=csv.QUOTE_ALL,\n",
    "    quotechar='\"',\n",
    "    escapechar='\\\\',\n",
    "    lineterminator='\\n'\n",
    ")\n"
   ]
  },
  {
   "cell_type": "code",
   "execution_count": 123,
   "metadata": {},
   "outputs": [
    {
     "name": "stdout",
     "output_type": "stream",
     "text": [
      "Empty DataFrame\n",
      "Columns: [review_uid, listing_id, id, date, comments]\n",
      "Index: []\n"
     ]
    }
   ],
   "source": [
    "print(df_reviews[df_reviews[\"listing_id\"] == 1191])\n"
   ]
  },
  {
   "cell_type": "code",
   "execution_count": 124,
   "metadata": {},
   "outputs": [],
   "source": [
    "df_reviews.to_csv(\n",
    "    \"/Users/brunoramos/Desktop/Airbnb Project/output/cleaned_reviews_amsterdam.csv\",\n",
    "    index=False,\n",
    "    encoding=\"utf-8\",\n",
    "    quoting=csv.QUOTE_ALL,\n",
    "    quotechar='\"',\n",
    "    escapechar='\\\\',\n",
    "    lineterminator='\\n'\n",
    ")\n"
   ]
  },
  {
   "cell_type": "code",
   "execution_count": 125,
   "metadata": {},
   "outputs": [],
   "source": [
    "# Remove line 21489 (remember Python is 0-based, so index is 21488)\n",
    "with open(\"/Users/brunoramos/Desktop/Airbnb Project/output/cleaned_reviews_amsterdam.csv\", \"r\") as f:\n",
    "    lines = f.readlines()\n",
    "\n",
    "# Remove line 21488 (i.e., line 21489 in human terms)\n",
    "del lines[21488]\n",
    "\n",
    "# Write the rest back\n",
    "with open(\"/Users/brunoramos/Desktop/Airbnb Project/output/cleaned_reviews_amsterdam.csv\", \"w\") as f:\n",
    "    f.writelines(lines)\n"
   ]
  },
  {
   "cell_type": "code",
   "execution_count": 129,
   "metadata": {},
   "outputs": [
    {
     "data": {
      "text/plain": [
       "Index(['review_uid', 'listing_id', 'id', 'date'], dtype='object')"
      ]
     },
     "execution_count": 129,
     "metadata": {},
     "output_type": "execute_result"
    }
   ],
   "source": [
    "df_reviews.columns\n"
   ]
  },
  {
   "cell_type": "code",
   "execution_count": 130,
   "metadata": {},
   "outputs": [],
   "source": [
    "df_reviews.to_csv(\n",
    "    \"/Users/brunoramos/Desktop/Airbnb Project/output/cleaned_reviews_amsterdam.csv\",\n",
    "    index=False\n",
    ")\n"
   ]
  },
  {
   "cell_type": "code",
   "execution_count": 131,
   "metadata": {},
   "outputs": [
    {
     "name": "stdout",
     "output_type": "stream",
     "text": [
      "1191 in reviews? False\n"
     ]
    }
   ],
   "source": [
    "import pandas as pd\n",
    "import csv\n",
    "\n",
    "# Reload everything from scratch\n",
    "df = pd.read_csv(\"../output/cleaned_listings_amsterdam.csv\")\n",
    "df_reviews = pd.read_csv(\"../output/cleaned_reviews_amsterdam.csv\")\n",
    "\n",
    "# Apply the filter AGAIN (do NOT skip this)\n",
    "df_reviews = df_reviews[df_reviews[\"listing_id\"].isin(df[\"id\"])]\n",
    "\n",
    "# Double check that 1191 is NOT in the DataFrame\n",
    "print(\"1191 in reviews?\", 1191 in df_reviews[\"listing_id\"].values)\n",
    "\n",
    "# Save over the same CSV — guaranteed clean\n",
    "df_reviews.to_csv(\n",
    "    \"/Users/brunoramos/Desktop/Airbnb Project/output/cleaned_reviews_amsterdam.csv\",\n",
    "    index=False,\n",
    "    encoding=\"utf-8\",\n",
    "    quoting=csv.QUOTE_MINIMAL,\n",
    "    lineterminator='\\n'\n",
    ")\n"
   ]
  },
  {
   "cell_type": "code",
   "execution_count": 132,
   "metadata": {},
   "outputs": [],
   "source": [
    "df_reviews.to_csv(\n",
    "    \"/Users/brunoramos/Desktop/Airbnb Project/output/reviews_clean_final.csv\",\n",
    "    index=False,\n",
    "    encoding=\"utf-8\",\n",
    "    quoting=csv.QUOTE_MINIMAL,\n",
    "    lineterminator='\\n'\n",
    ")\n"
   ]
  },
  {
   "cell_type": "code",
   "execution_count": 133,
   "metadata": {},
   "outputs": [
    {
     "name": "stdout",
     "output_type": "stream",
     "text": [
      "Total reviews: 371549\n",
      "Invalid listing_ids: 0\n",
      "Sample invalid rows:\n",
      "Empty DataFrame\n",
      "Columns: [review_uid, listing_id, id, date]\n",
      "Index: []\n"
     ]
    }
   ],
   "source": [
    "import pandas as pd\n",
    "\n",
    "# Load both cleaned files\n",
    "df_reviews = pd.read_csv(\"/Users/brunoramos/Desktop/Airbnb Project/output/cleaned_reviews_amsterdam.csv\")\n",
    "df_listings = pd.read_csv(\"/Users/brunoramos/Desktop/Airbnb Project/output/cleaned_listings_amsterdam.csv\")\n",
    "\n",
    "# Check how many listing_ids in reviews are not in listings\n",
    "invalid_ids = df_reviews[~df_reviews[\"listing_id\"].isin(df_listings[\"id\"])]\n",
    "\n",
    "# Show result\n",
    "print(f\"Total reviews: {len(df_reviews)}\")\n",
    "print(f\"Invalid listing_ids: {len(invalid_ids)}\")\n",
    "print(\"Sample invalid rows:\")\n",
    "print(invalid_ids.head())\n"
   ]
  },
  {
   "cell_type": "code",
   "execution_count": 134,
   "metadata": {},
   "outputs": [
    {
     "name": "stdout",
     "output_type": "stream",
     "text": [
      "Total listings: 5911\n",
      "Total calendar listing_ids: 5911\n",
      "Total reviews listing_ids: 5181\n",
      "❌ Calendar listing_ids NOT in listings: 0\n",
      "❌ Reviews listing_ids NOT in listings: 0\n",
      "\n",
      "Sample calendar mismatches: []\n",
      "Sample reviews mismatches: []\n"
     ]
    }
   ],
   "source": [
    "import pandas as pd\n",
    "\n",
    "# Load all 3 cleaned CSVs\n",
    "df_listings = pd.read_csv(\"/Users/brunoramos/Desktop/Airbnb Project/output/cleaned_listings_amsterdam.csv\")\n",
    "df_calendar = pd.read_csv(\"/Users/brunoramos/Desktop/Airbnb Project/output/cleaned_calendar_amsterdam.csv\")\n",
    "df_reviews = pd.read_csv(\"/Users/brunoramos/Desktop/Airbnb Project/output/cleaned_reviews_amsterdam.csv\")\n",
    "\n",
    "# Get listing ID sets from each\n",
    "listings_ids = set(df_listings[\"id\"])\n",
    "calendar_ids = set(df_calendar[\"listing_id\"])\n",
    "reviews_ids = set(df_reviews[\"listing_id\"])\n",
    "\n",
    "# Check mismatches\n",
    "calendar_missing = calendar_ids - listings_ids\n",
    "reviews_missing = reviews_ids - listings_ids\n",
    "\n",
    "print(f\"Total listings: {len(listings_ids)}\")\n",
    "print(f\"Total calendar listing_ids: {len(calendar_ids)}\")\n",
    "print(f\"Total reviews listing_ids: {len(reviews_ids)}\")\n",
    "\n",
    "print(f\"❌ Calendar listing_ids NOT in listings: {len(calendar_missing)}\")\n",
    "print(f\"❌ Reviews listing_ids NOT in listings: {len(reviews_missing)}\")\n",
    "\n",
    "# Optional: show samples\n",
    "print(\"\\nSample calendar mismatches:\", list(calendar_missing)[:5])\n",
    "print(\"Sample reviews mismatches:\", list(reviews_missing)[:5])\n"
   ]
  },
  {
   "cell_type": "code",
   "execution_count": 136,
   "metadata": {},
   "outputs": [],
   "source": [
    "import pandas as pd\n",
    "import csv\n",
    "\n",
    "# Reload the original full reviews file (with comments)\n",
    "df_reviews = pd.read_csv(\"/Users/brunoramos/Desktop/Airbnb Project/output/cleaned_reviews_amsterdam.csv\")\n",
    "\n",
    "# Load listings\n",
    "df_listings = pd.read_csv(\"/Users/brunoramos/Desktop/Airbnb Project/output/cleaned_listings_amsterdam.csv\")\n",
    "\n",
    "# Keep only valid listing_ids\n",
    "df_reviews = df_reviews[df_reviews[\"listing_id\"].isin(df_listings[\"id\"])]\n",
    "\n",
    "# Overwrite the same file — NO NEW FILE\n",
    "df_reviews.to_csv(\n",
    "    \"/Users/brunoramos/Desktop/Airbnb Project/output/cleaned_reviews_amsterdam.csv\",\n",
    "    index=False,\n",
    "    encoding=\"utf-8\",\n",
    "    quoting=csv.QUOTE_ALL,\n",
    "    quotechar='\"',\n",
    "    escapechar='\\\\',\n",
    "    lineterminator='\\n'\n",
    ")\n",
    "\n"
   ]
  },
  {
   "cell_type": "code",
   "execution_count": 137,
   "metadata": {},
   "outputs": [],
   "source": [
    "reviews_df = pd.read_csv('../data/amsterdam/reviews.csv')"
   ]
  },
  {
   "cell_type": "code",
   "execution_count": 138,
   "metadata": {},
   "outputs": [],
   "source": [
    "# Drop unnecessary columns\n",
    "reviews_df = reviews_df.drop(columns=['reviewer_name', 'reviewer_id'])"
   ]
  },
  {
   "cell_type": "code",
   "execution_count": 139,
   "metadata": {},
   "outputs": [],
   "source": [
    "#convert 'date' column to datetime format\n",
    "reviews_df['date'] = pd.to_datetime(reviews_df['date'], errors='coerce')"
   ]
  },
  {
   "cell_type": "code",
   "execution_count": 140,
   "metadata": {},
   "outputs": [],
   "source": [
    "# Drop rows where 'comments' is missing\n",
    "reviews_df = reviews_df.dropna(subset=['comments'])"
   ]
  },
  {
   "cell_type": "code",
   "execution_count": 141,
   "metadata": {},
   "outputs": [],
   "source": [
    "import os\n",
    "\n",
    "# Make sure the output folder exists\n",
    "os.makedirs(\"../output\", exist_ok=True)\n",
    "\n",
    "# Save to CSV\n",
    "reviews_df.to_csv(\"../output/cleaned_reviews_amsterdam.csv\", index=False)"
   ]
  },
  {
   "cell_type": "code",
   "execution_count": 142,
   "metadata": {},
   "outputs": [],
   "source": [
    "# Keep only rows in df_reviews where listing_id exists in df (listings)\n",
    "df_reviews = df_reviews[df_reviews[\"listing_id\"].isin(df[\"id\"])]\n",
    "\n",
    "# Overwrite the original reviews CSV\n",
    "df_reviews.to_csv(\"../output/cleaned_reviews_amsterdam.csv\", index=False)"
   ]
  },
  {
   "cell_type": "code",
   "execution_count": 143,
   "metadata": {},
   "outputs": [
    {
     "name": "stdout",
     "output_type": "stream",
     "text": [
      "Total listings: 5911\n",
      "Total calendar listing_ids: 5911\n",
      "Total reviews listing_ids: 5181\n",
      "❌ Calendar listing_ids NOT in listings: 0\n",
      "❌ Reviews listing_ids NOT in listings: 0\n",
      "\n",
      "Sample calendar mismatches: []\n",
      "Sample reviews mismatches: []\n"
     ]
    }
   ],
   "source": [
    "\n",
    "\n",
    "# Load all 3 cleaned CSVs\n",
    "df_listings = pd.read_csv(\"/Users/brunoramos/Desktop/Airbnb Project/output/cleaned_listings_amsterdam.csv\")\n",
    "df_calendar = pd.read_csv(\"/Users/brunoramos/Desktop/Airbnb Project/output/cleaned_calendar_amsterdam.csv\")\n",
    "df_reviews = pd.read_csv(\"/Users/brunoramos/Desktop/Airbnb Project/output/cleaned_reviews_amsterdam.csv\")\n",
    "\n",
    "# Get listing ID sets from each\n",
    "listings_ids = set(df_listings[\"id\"])\n",
    "calendar_ids = set(df_calendar[\"listing_id\"])\n",
    "reviews_ids = set(df_reviews[\"listing_id\"])\n",
    "\n",
    "# Check mismatches\n",
    "calendar_missing = calendar_ids - listings_ids\n",
    "reviews_missing = reviews_ids - listings_ids\n",
    "\n",
    "print(f\"Total listings: {len(listings_ids)}\")\n",
    "print(f\"Total calendar listing_ids: {len(calendar_ids)}\")\n",
    "print(f\"Total reviews listing_ids: {len(reviews_ids)}\")\n",
    "\n",
    "print(f\"❌ Calendar listing_ids NOT in listings: {len(calendar_missing)}\")\n",
    "print(f\"❌ Reviews listing_ids NOT in listings: {len(reviews_missing)}\")\n",
    "\n",
    "# Optional: show samples\n",
    "print(\"\\nSample calendar mismatches:\", list(calendar_missing)[:5])\n",
    "print(\"Sample reviews mismatches:\", list(reviews_missing)[:5])"
   ]
  },
  {
   "cell_type": "code",
   "execution_count": 146,
   "metadata": {},
   "outputs": [
    {
     "data": {
      "text/html": [
       "<div>\n",
       "<style scoped>\n",
       "    .dataframe tbody tr th:only-of-type {\n",
       "        vertical-align: middle;\n",
       "    }\n",
       "\n",
       "    .dataframe tbody tr th {\n",
       "        vertical-align: top;\n",
       "    }\n",
       "\n",
       "    .dataframe thead th {\n",
       "        text-align: right;\n",
       "    }\n",
       "</style>\n",
       "<table border=\"1\" class=\"dataframe\">\n",
       "  <thead>\n",
       "    <tr style=\"text-align: right;\">\n",
       "      <th></th>\n",
       "      <th>listing_id</th>\n",
       "      <th>id</th>\n",
       "      <th>date</th>\n",
       "      <th>comments</th>\n",
       "    </tr>\n",
       "  </thead>\n",
       "  <tbody>\n",
       "    <tr>\n",
       "      <th>0</th>\n",
       "      <td>2818</td>\n",
       "      <td>1191</td>\n",
       "      <td>2009-03-30</td>\n",
       "      <td>Daniel is really cool. The place was nice and ...</td>\n",
       "    </tr>\n",
       "    <tr>\n",
       "      <th>1</th>\n",
       "      <td>2818</td>\n",
       "      <td>1771</td>\n",
       "      <td>2009-04-24</td>\n",
       "      <td>Daniel is the most amazing host! His place is ...</td>\n",
       "    </tr>\n",
       "    <tr>\n",
       "      <th>2</th>\n",
       "      <td>2818</td>\n",
       "      <td>1989</td>\n",
       "      <td>2009-05-03</td>\n",
       "      <td>We had such a great time in Amsterdam. Daniel ...</td>\n",
       "    </tr>\n",
       "    <tr>\n",
       "      <th>3</th>\n",
       "      <td>2818</td>\n",
       "      <td>2797</td>\n",
       "      <td>2009-05-18</td>\n",
       "      <td>Very professional operation. Room is very clea...</td>\n",
       "    </tr>\n",
       "    <tr>\n",
       "      <th>4</th>\n",
       "      <td>2818</td>\n",
       "      <td>3151</td>\n",
       "      <td>2009-05-25</td>\n",
       "      <td>Daniel is highly recommended.  He provided all...</td>\n",
       "    </tr>\n",
       "  </tbody>\n",
       "</table>\n",
       "</div>"
      ],
      "text/plain": [
       "   listing_id    id       date  \\\n",
       "0        2818  1191 2009-03-30   \n",
       "1        2818  1771 2009-04-24   \n",
       "2        2818  1989 2009-05-03   \n",
       "3        2818  2797 2009-05-18   \n",
       "4        2818  3151 2009-05-25   \n",
       "\n",
       "                                            comments  \n",
       "0  Daniel is really cool. The place was nice and ...  \n",
       "1  Daniel is the most amazing host! His place is ...  \n",
       "2  We had such a great time in Amsterdam. Daniel ...  \n",
       "3  Very professional operation. Room is very clea...  \n",
       "4  Daniel is highly recommended.  He provided all...  "
      ]
     },
     "execution_count": 146,
     "metadata": {},
     "output_type": "execute_result"
    }
   ],
   "source": [
    "reviews_df.head()"
   ]
  },
  {
   "cell_type": "code",
   "execution_count": 148,
   "metadata": {},
   "outputs": [],
   "source": [
    "# Add a surrogate primary key\n",
    "reviews_df.insert(0, \"review_uid\", range(1, len(reviews_df) + 1))\n",
    "\n",
    "\n",
    "# Save with the new column\n",
    "reviews_df.to_csv(\"../output/cleaned_reviews_amsterdam.csv\", index=False)"
   ]
  },
  {
   "cell_type": "code",
   "execution_count": 149,
   "metadata": {},
   "outputs": [
    {
     "data": {
      "text/html": [
       "<div>\n",
       "<style scoped>\n",
       "    .dataframe tbody tr th:only-of-type {\n",
       "        vertical-align: middle;\n",
       "    }\n",
       "\n",
       "    .dataframe tbody tr th {\n",
       "        vertical-align: top;\n",
       "    }\n",
       "\n",
       "    .dataframe thead th {\n",
       "        text-align: right;\n",
       "    }\n",
       "</style>\n",
       "<table border=\"1\" class=\"dataframe\">\n",
       "  <thead>\n",
       "    <tr style=\"text-align: right;\">\n",
       "      <th></th>\n",
       "      <th>review_uid</th>\n",
       "      <th>listing_id</th>\n",
       "      <th>id</th>\n",
       "      <th>date</th>\n",
       "      <th>comments</th>\n",
       "    </tr>\n",
       "  </thead>\n",
       "  <tbody>\n",
       "    <tr>\n",
       "      <th>0</th>\n",
       "      <td>1</td>\n",
       "      <td>2818</td>\n",
       "      <td>1191</td>\n",
       "      <td>2009-03-30</td>\n",
       "      <td>Daniel is really cool. The place was nice and ...</td>\n",
       "    </tr>\n",
       "    <tr>\n",
       "      <th>1</th>\n",
       "      <td>2</td>\n",
       "      <td>2818</td>\n",
       "      <td>1771</td>\n",
       "      <td>2009-04-24</td>\n",
       "      <td>Daniel is the most amazing host! His place is ...</td>\n",
       "    </tr>\n",
       "    <tr>\n",
       "      <th>2</th>\n",
       "      <td>3</td>\n",
       "      <td>2818</td>\n",
       "      <td>1989</td>\n",
       "      <td>2009-05-03</td>\n",
       "      <td>We had such a great time in Amsterdam. Daniel ...</td>\n",
       "    </tr>\n",
       "    <tr>\n",
       "      <th>3</th>\n",
       "      <td>4</td>\n",
       "      <td>2818</td>\n",
       "      <td>2797</td>\n",
       "      <td>2009-05-18</td>\n",
       "      <td>Very professional operation. Room is very clea...</td>\n",
       "    </tr>\n",
       "    <tr>\n",
       "      <th>4</th>\n",
       "      <td>5</td>\n",
       "      <td>2818</td>\n",
       "      <td>3151</td>\n",
       "      <td>2009-05-25</td>\n",
       "      <td>Daniel is highly recommended.  He provided all...</td>\n",
       "    </tr>\n",
       "    <tr>\n",
       "      <th>5</th>\n",
       "      <td>6</td>\n",
       "      <td>2818</td>\n",
       "      <td>4748</td>\n",
       "      <td>2009-06-29</td>\n",
       "      <td>Daniel was a great host! He made everything so...</td>\n",
       "    </tr>\n",
       "    <tr>\n",
       "      <th>6</th>\n",
       "      <td>7</td>\n",
       "      <td>2818</td>\n",
       "      <td>5202</td>\n",
       "      <td>2009-07-07</td>\n",
       "      <td>Daniele is an amazing host! He provided everyt...</td>\n",
       "    </tr>\n",
       "    <tr>\n",
       "      <th>7</th>\n",
       "      <td>8</td>\n",
       "      <td>2818</td>\n",
       "      <td>9131</td>\n",
       "      <td>2009-09-06</td>\n",
       "      <td>You can´t have a nicer start in Amsterdam. Dan...</td>\n",
       "    </tr>\n",
       "    <tr>\n",
       "      <th>8</th>\n",
       "      <td>9</td>\n",
       "      <td>2818</td>\n",
       "      <td>12103</td>\n",
       "      <td>2009-10-01</td>\n",
       "      <td>Daniel was a fantastic host. His place is calm...</td>\n",
       "    </tr>\n",
       "    <tr>\n",
       "      <th>9</th>\n",
       "      <td>10</td>\n",
       "      <td>2818</td>\n",
       "      <td>16196</td>\n",
       "      <td>2009-11-04</td>\n",
       "      <td>Daniel was great. He couldn.t do enough for us...</td>\n",
       "    </tr>\n",
       "  </tbody>\n",
       "</table>\n",
       "</div>"
      ],
      "text/plain": [
       "   review_uid  listing_id     id       date  \\\n",
       "0           1        2818   1191 2009-03-30   \n",
       "1           2        2818   1771 2009-04-24   \n",
       "2           3        2818   1989 2009-05-03   \n",
       "3           4        2818   2797 2009-05-18   \n",
       "4           5        2818   3151 2009-05-25   \n",
       "5           6        2818   4748 2009-06-29   \n",
       "6           7        2818   5202 2009-07-07   \n",
       "7           8        2818   9131 2009-09-06   \n",
       "8           9        2818  12103 2009-10-01   \n",
       "9          10        2818  16196 2009-11-04   \n",
       "\n",
       "                                            comments  \n",
       "0  Daniel is really cool. The place was nice and ...  \n",
       "1  Daniel is the most amazing host! His place is ...  \n",
       "2  We had such a great time in Amsterdam. Daniel ...  \n",
       "3  Very professional operation. Room is very clea...  \n",
       "4  Daniel is highly recommended.  He provided all...  \n",
       "5  Daniel was a great host! He made everything so...  \n",
       "6  Daniele is an amazing host! He provided everyt...  \n",
       "7  You can´t have a nicer start in Amsterdam. Dan...  \n",
       "8  Daniel was a fantastic host. His place is calm...  \n",
       "9  Daniel was great. He couldn.t do enough for us...  "
      ]
     },
     "execution_count": 149,
     "metadata": {},
     "output_type": "execute_result"
    }
   ],
   "source": [
    "reviews_df.head(10)"
   ]
  },
  {
   "cell_type": "code",
   "execution_count": 150,
   "metadata": {},
   "outputs": [],
   "source": [
    "# Save with the new column\n",
    "reviews_df.to_csv(\"../output/cleaned_reviews_amsterdam.csv\", index=False)"
   ]
  },
  {
   "cell_type": "code",
   "execution_count": 151,
   "metadata": {},
   "outputs": [
    {
     "name": "stdout",
     "output_type": "stream",
     "text": [
      "Total listings: 5911\n",
      "Total calendar listing_ids: 5911\n",
      "Total reviews listing_ids: 8944\n",
      "❌ Calendar listing_ids NOT in listings: 0\n",
      "❌ Reviews listing_ids NOT in listings: 3763\n",
      "\n",
      "Sample calendar mismatches: []\n",
      "Sample reviews mismatches: [678229395354656768, 809275686404890625, 1183409573575639040, 1276590392825405442, 27353091]\n"
     ]
    }
   ],
   "source": [
    "# Load all 3 cleaned CSVs\n",
    "df_listings = pd.read_csv(\"/Users/brunoramos/Desktop/Airbnb Project/output/cleaned_listings_amsterdam.csv\")\n",
    "df_calendar = pd.read_csv(\"/Users/brunoramos/Desktop/Airbnb Project/output/cleaned_calendar_amsterdam.csv\")\n",
    "df_reviews = pd.read_csv(\"/Users/brunoramos/Desktop/Airbnb Project/output/cleaned_reviews_amsterdam.csv\")\n",
    "\n",
    "# Get listing ID sets from each\n",
    "listings_ids = set(df_listings[\"id\"])\n",
    "calendar_ids = set(df_calendar[\"listing_id\"])\n",
    "reviews_ids = set(df_reviews[\"listing_id\"])\n",
    "\n",
    "# Check mismatches\n",
    "calendar_missing = calendar_ids - listings_ids\n",
    "reviews_missing = reviews_ids - listings_ids\n",
    "\n",
    "print(f\"Total listings: {len(listings_ids)}\")\n",
    "print(f\"Total calendar listing_ids: {len(calendar_ids)}\")\n",
    "print(f\"Total reviews listing_ids: {len(reviews_ids)}\")\n",
    "\n",
    "print(f\"❌ Calendar listing_ids NOT in listings: {len(calendar_missing)}\")\n",
    "print(f\"❌ Reviews listing_ids NOT in listings: {len(reviews_missing)}\")\n",
    "\n",
    "# Optional: show samples\n",
    "print(\"\\nSample calendar mismatches:\", list(calendar_missing)[:5])\n",
    "print(\"Sample reviews mismatches:\", list(reviews_missing)[:5])"
   ]
  },
  {
   "cell_type": "code",
   "execution_count": 152,
   "metadata": {},
   "outputs": [],
   "source": [
    "df_reviews = df_reviews[df_reviews[\"listing_id\"].isin(df_listings[\"id\"])]\n"
   ]
  },
  {
   "cell_type": "code",
   "execution_count": 154,
   "metadata": {},
   "outputs": [],
   "source": [
    "# Overwrite the 'review_uid' column instead of inserting\n",
    "df_reviews[\"review_uid\"] = range(1, len(df_reviews) + 1)\n",
    "\n",
    "# Save the updated file\n",
    "df_reviews.to_csv(\n",
    "    \"/Users/brunoramos/Desktop/Airbnb Project/output/cleaned_reviews_amsterdam.csv\",\n",
    "    index=False,\n",
    "    encoding=\"utf-8\",\n",
    "    quoting=1,  # QUOTE_ALL\n",
    "    quotechar='\"',\n",
    "    escapechar='\\\\',\n",
    "    lineterminator='\\n'\n",
    ")\n",
    "\n"
   ]
  },
  {
   "cell_type": "code",
   "execution_count": 155,
   "metadata": {},
   "outputs": [
    {
     "data": {
      "text/html": [
       "<div>\n",
       "<style scoped>\n",
       "    .dataframe tbody tr th:only-of-type {\n",
       "        vertical-align: middle;\n",
       "    }\n",
       "\n",
       "    .dataframe tbody tr th {\n",
       "        vertical-align: top;\n",
       "    }\n",
       "\n",
       "    .dataframe thead th {\n",
       "        text-align: right;\n",
       "    }\n",
       "</style>\n",
       "<table border=\"1\" class=\"dataframe\">\n",
       "  <thead>\n",
       "    <tr style=\"text-align: right;\">\n",
       "      <th></th>\n",
       "      <th>review_uid</th>\n",
       "      <th>listing_id</th>\n",
       "      <th>id</th>\n",
       "      <th>date</th>\n",
       "      <th>comments</th>\n",
       "    </tr>\n",
       "  </thead>\n",
       "  <tbody>\n",
       "    <tr>\n",
       "      <th>0</th>\n",
       "      <td>1</td>\n",
       "      <td>2818</td>\n",
       "      <td>1191</td>\n",
       "      <td>2009-03-30</td>\n",
       "      <td>Daniel is really cool. The place was nice and ...</td>\n",
       "    </tr>\n",
       "    <tr>\n",
       "      <th>1</th>\n",
       "      <td>2</td>\n",
       "      <td>2818</td>\n",
       "      <td>1771</td>\n",
       "      <td>2009-04-24</td>\n",
       "      <td>Daniel is the most amazing host! His place is ...</td>\n",
       "    </tr>\n",
       "    <tr>\n",
       "      <th>2</th>\n",
       "      <td>3</td>\n",
       "      <td>2818</td>\n",
       "      <td>1989</td>\n",
       "      <td>2009-05-03</td>\n",
       "      <td>We had such a great time in Amsterdam. Daniel ...</td>\n",
       "    </tr>\n",
       "    <tr>\n",
       "      <th>3</th>\n",
       "      <td>4</td>\n",
       "      <td>2818</td>\n",
       "      <td>2797</td>\n",
       "      <td>2009-05-18</td>\n",
       "      <td>Very professional operation. Room is very clea...</td>\n",
       "    </tr>\n",
       "    <tr>\n",
       "      <th>4</th>\n",
       "      <td>5</td>\n",
       "      <td>2818</td>\n",
       "      <td>3151</td>\n",
       "      <td>2009-05-25</td>\n",
       "      <td>Daniel is highly recommended.  He provided all...</td>\n",
       "    </tr>\n",
       "    <tr>\n",
       "      <th>5</th>\n",
       "      <td>6</td>\n",
       "      <td>2818</td>\n",
       "      <td>4748</td>\n",
       "      <td>2009-06-29</td>\n",
       "      <td>Daniel was a great host! He made everything so...</td>\n",
       "    </tr>\n",
       "    <tr>\n",
       "      <th>6</th>\n",
       "      <td>7</td>\n",
       "      <td>2818</td>\n",
       "      <td>5202</td>\n",
       "      <td>2009-07-07</td>\n",
       "      <td>Daniele is an amazing host! He provided everyt...</td>\n",
       "    </tr>\n",
       "    <tr>\n",
       "      <th>7</th>\n",
       "      <td>8</td>\n",
       "      <td>2818</td>\n",
       "      <td>9131</td>\n",
       "      <td>2009-09-06</td>\n",
       "      <td>You can´t have a nicer start in Amsterdam. Dan...</td>\n",
       "    </tr>\n",
       "    <tr>\n",
       "      <th>8</th>\n",
       "      <td>9</td>\n",
       "      <td>2818</td>\n",
       "      <td>12103</td>\n",
       "      <td>2009-10-01</td>\n",
       "      <td>Daniel was a fantastic host. His place is calm...</td>\n",
       "    </tr>\n",
       "    <tr>\n",
       "      <th>9</th>\n",
       "      <td>10</td>\n",
       "      <td>2818</td>\n",
       "      <td>16196</td>\n",
       "      <td>2009-11-04</td>\n",
       "      <td>Daniel was great. He couldn.t do enough for us...</td>\n",
       "    </tr>\n",
       "  </tbody>\n",
       "</table>\n",
       "</div>"
      ],
      "text/plain": [
       "   review_uid  listing_id     id        date  \\\n",
       "0           1        2818   1191  2009-03-30   \n",
       "1           2        2818   1771  2009-04-24   \n",
       "2           3        2818   1989  2009-05-03   \n",
       "3           4        2818   2797  2009-05-18   \n",
       "4           5        2818   3151  2009-05-25   \n",
       "5           6        2818   4748  2009-06-29   \n",
       "6           7        2818   5202  2009-07-07   \n",
       "7           8        2818   9131  2009-09-06   \n",
       "8           9        2818  12103  2009-10-01   \n",
       "9          10        2818  16196  2009-11-04   \n",
       "\n",
       "                                            comments  \n",
       "0  Daniel is really cool. The place was nice and ...  \n",
       "1  Daniel is the most amazing host! His place is ...  \n",
       "2  We had such a great time in Amsterdam. Daniel ...  \n",
       "3  Very professional operation. Room is very clea...  \n",
       "4  Daniel is highly recommended.  He provided all...  \n",
       "5  Daniel was a great host! He made everything so...  \n",
       "6  Daniele is an amazing host! He provided everyt...  \n",
       "7  You can´t have a nicer start in Amsterdam. Dan...  \n",
       "8  Daniel was a fantastic host. His place is calm...  \n",
       "9  Daniel was great. He couldn.t do enough for us...  "
      ]
     },
     "execution_count": 155,
     "metadata": {},
     "output_type": "execute_result"
    }
   ],
   "source": [
    "df_reviews.head(10)\n"
   ]
  },
  {
   "cell_type": "code",
   "execution_count": 156,
   "metadata": {},
   "outputs": [
    {
     "name": "stdout",
     "output_type": "stream",
     "text": [
      "Total listings: 5911\n",
      "Total calendar listing_ids: 5911\n",
      "Total reviews listing_ids: 5181\n",
      "❌ Calendar listing_ids NOT in listings: 0\n",
      "❌ Reviews listing_ids NOT in listings: 0\n",
      "\n",
      "Sample calendar mismatches: []\n",
      "Sample reviews mismatches: []\n"
     ]
    }
   ],
   "source": [
    "# Load all 3 cleaned CSVs\n",
    "df_listings = pd.read_csv(\"/Users/brunoramos/Desktop/Airbnb Project/output/cleaned_listings_amsterdam.csv\")\n",
    "df_calendar = pd.read_csv(\"/Users/brunoramos/Desktop/Airbnb Project/output/cleaned_calendar_amsterdam.csv\")\n",
    "df_reviews = pd.read_csv(\"/Users/brunoramos/Desktop/Airbnb Project/output/cleaned_reviews_amsterdam.csv\")\n",
    "\n",
    "# Get listing ID sets from each\n",
    "listings_ids = set(df_listings[\"id\"])\n",
    "calendar_ids = set(df_calendar[\"listing_id\"])\n",
    "reviews_ids = set(df_reviews[\"listing_id\"])\n",
    "\n",
    "# Check mismatches\n",
    "calendar_missing = calendar_ids - listings_ids\n",
    "reviews_missing = reviews_ids - listings_ids\n",
    "\n",
    "print(f\"Total listings: {len(listings_ids)}\")\n",
    "print(f\"Total calendar listing_ids: {len(calendar_ids)}\")\n",
    "print(f\"Total reviews listing_ids: {len(reviews_ids)}\")\n",
    "\n",
    "print(f\"❌ Calendar listing_ids NOT in listings: {len(calendar_missing)}\")\n",
    "print(f\"❌ Reviews listing_ids NOT in listings: {len(reviews_missing)}\")\n",
    "\n",
    "# Optional: show samples\n",
    "print(\"\\nSample calendar mismatches:\", list(calendar_missing)[:5])\n",
    "print(\"Sample reviews mismatches:\", list(reviews_missing)[:5])"
   ]
  },
  {
   "cell_type": "code",
   "execution_count": 157,
   "metadata": {},
   "outputs": [],
   "source": [
    "# Reorder columns to match the SQL table\n",
    "df_reviews = df_reviews[[\"review_uid\", \"id\", \"listing_id\", \"date\", \"comments\"]]\n",
    "\n",
    "# Overwrite the same file\n",
    "df_reviews.to_csv(\n",
    "    \"/Users/brunoramos/Desktop/Airbnb Project/output/cleaned_reviews_amsterdam.csv\",\n",
    "    index=False,\n",
    "    encoding=\"utf-8\",\n",
    "    quoting=1,  # QUOTE_ALL\n",
    "    quotechar='\"',\n",
    "    escapechar='\\\\',\n",
    "    lineterminator='\\n'\n",
    ")\n"
   ]
  },
  {
   "cell_type": "code",
   "execution_count": 158,
   "metadata": {},
   "outputs": [
    {
     "data": {
      "text/html": [
       "<div>\n",
       "<style scoped>\n",
       "    .dataframe tbody tr th:only-of-type {\n",
       "        vertical-align: middle;\n",
       "    }\n",
       "\n",
       "    .dataframe tbody tr th {\n",
       "        vertical-align: top;\n",
       "    }\n",
       "\n",
       "    .dataframe thead th {\n",
       "        text-align: right;\n",
       "    }\n",
       "</style>\n",
       "<table border=\"1\" class=\"dataframe\">\n",
       "  <thead>\n",
       "    <tr style=\"text-align: right;\">\n",
       "      <th></th>\n",
       "      <th>review_uid</th>\n",
       "      <th>id</th>\n",
       "      <th>listing_id</th>\n",
       "      <th>date</th>\n",
       "      <th>comments</th>\n",
       "    </tr>\n",
       "  </thead>\n",
       "  <tbody>\n",
       "    <tr>\n",
       "      <th>0</th>\n",
       "      <td>1</td>\n",
       "      <td>1191</td>\n",
       "      <td>2818</td>\n",
       "      <td>2009-03-30</td>\n",
       "      <td>Daniel is really cool. The place was nice and ...</td>\n",
       "    </tr>\n",
       "    <tr>\n",
       "      <th>1</th>\n",
       "      <td>2</td>\n",
       "      <td>1771</td>\n",
       "      <td>2818</td>\n",
       "      <td>2009-04-24</td>\n",
       "      <td>Daniel is the most amazing host! His place is ...</td>\n",
       "    </tr>\n",
       "    <tr>\n",
       "      <th>2</th>\n",
       "      <td>3</td>\n",
       "      <td>1989</td>\n",
       "      <td>2818</td>\n",
       "      <td>2009-05-03</td>\n",
       "      <td>We had such a great time in Amsterdam. Daniel ...</td>\n",
       "    </tr>\n",
       "    <tr>\n",
       "      <th>3</th>\n",
       "      <td>4</td>\n",
       "      <td>2797</td>\n",
       "      <td>2818</td>\n",
       "      <td>2009-05-18</td>\n",
       "      <td>Very professional operation. Room is very clea...</td>\n",
       "    </tr>\n",
       "    <tr>\n",
       "      <th>4</th>\n",
       "      <td>5</td>\n",
       "      <td>3151</td>\n",
       "      <td>2818</td>\n",
       "      <td>2009-05-25</td>\n",
       "      <td>Daniel is highly recommended.  He provided all...</td>\n",
       "    </tr>\n",
       "    <tr>\n",
       "      <th>5</th>\n",
       "      <td>6</td>\n",
       "      <td>4748</td>\n",
       "      <td>2818</td>\n",
       "      <td>2009-06-29</td>\n",
       "      <td>Daniel was a great host! He made everything so...</td>\n",
       "    </tr>\n",
       "    <tr>\n",
       "      <th>6</th>\n",
       "      <td>7</td>\n",
       "      <td>5202</td>\n",
       "      <td>2818</td>\n",
       "      <td>2009-07-07</td>\n",
       "      <td>Daniele is an amazing host! He provided everyt...</td>\n",
       "    </tr>\n",
       "    <tr>\n",
       "      <th>7</th>\n",
       "      <td>8</td>\n",
       "      <td>9131</td>\n",
       "      <td>2818</td>\n",
       "      <td>2009-09-06</td>\n",
       "      <td>You can´t have a nicer start in Amsterdam. Dan...</td>\n",
       "    </tr>\n",
       "    <tr>\n",
       "      <th>8</th>\n",
       "      <td>9</td>\n",
       "      <td>12103</td>\n",
       "      <td>2818</td>\n",
       "      <td>2009-10-01</td>\n",
       "      <td>Daniel was a fantastic host. His place is calm...</td>\n",
       "    </tr>\n",
       "    <tr>\n",
       "      <th>9</th>\n",
       "      <td>10</td>\n",
       "      <td>16196</td>\n",
       "      <td>2818</td>\n",
       "      <td>2009-11-04</td>\n",
       "      <td>Daniel was great. He couldn.t do enough for us...</td>\n",
       "    </tr>\n",
       "  </tbody>\n",
       "</table>\n",
       "</div>"
      ],
      "text/plain": [
       "   review_uid     id  listing_id        date  \\\n",
       "0           1   1191        2818  2009-03-30   \n",
       "1           2   1771        2818  2009-04-24   \n",
       "2           3   1989        2818  2009-05-03   \n",
       "3           4   2797        2818  2009-05-18   \n",
       "4           5   3151        2818  2009-05-25   \n",
       "5           6   4748        2818  2009-06-29   \n",
       "6           7   5202        2818  2009-07-07   \n",
       "7           8   9131        2818  2009-09-06   \n",
       "8           9  12103        2818  2009-10-01   \n",
       "9          10  16196        2818  2009-11-04   \n",
       "\n",
       "                                            comments  \n",
       "0  Daniel is really cool. The place was nice and ...  \n",
       "1  Daniel is the most amazing host! His place is ...  \n",
       "2  We had such a great time in Amsterdam. Daniel ...  \n",
       "3  Very professional operation. Room is very clea...  \n",
       "4  Daniel is highly recommended.  He provided all...  \n",
       "5  Daniel was a great host! He made everything so...  \n",
       "6  Daniele is an amazing host! He provided everyt...  \n",
       "7  You can´t have a nicer start in Amsterdam. Dan...  \n",
       "8  Daniel was a fantastic host. His place is calm...  \n",
       "9  Daniel was great. He couldn.t do enough for us...  "
      ]
     },
     "execution_count": 158,
     "metadata": {},
     "output_type": "execute_result"
    }
   ],
   "source": [
    "df_reviews.head(10)"
   ]
  },
  {
   "cell_type": "code",
   "execution_count": 159,
   "metadata": {},
   "outputs": [
    {
     "data": {
      "text/html": [
       "<div>\n",
       "<style scoped>\n",
       "    .dataframe tbody tr th:only-of-type {\n",
       "        vertical-align: middle;\n",
       "    }\n",
       "\n",
       "    .dataframe tbody tr th {\n",
       "        vertical-align: top;\n",
       "    }\n",
       "\n",
       "    .dataframe thead th {\n",
       "        text-align: right;\n",
       "    }\n",
       "</style>\n",
       "<table border=\"1\" class=\"dataframe\">\n",
       "  <thead>\n",
       "    <tr style=\"text-align: right;\">\n",
       "      <th></th>\n",
       "      <th>listing_id</th>\n",
       "      <th>date</th>\n",
       "      <th>available</th>\n",
       "      <th>price</th>\n",
       "      <th>minimum_nights</th>\n",
       "    </tr>\n",
       "  </thead>\n",
       "  <tbody>\n",
       "    <tr>\n",
       "      <th>0</th>\n",
       "      <td>2818</td>\n",
       "      <td>2025-03-03</td>\n",
       "      <td>False</td>\n",
       "      <td>89.0</td>\n",
       "      <td>3.0</td>\n",
       "    </tr>\n",
       "    <tr>\n",
       "      <th>1</th>\n",
       "      <td>2818</td>\n",
       "      <td>2025-03-04</td>\n",
       "      <td>True</td>\n",
       "      <td>89.0</td>\n",
       "      <td>3.0</td>\n",
       "    </tr>\n",
       "    <tr>\n",
       "      <th>2</th>\n",
       "      <td>2818</td>\n",
       "      <td>2025-03-05</td>\n",
       "      <td>True</td>\n",
       "      <td>89.0</td>\n",
       "      <td>3.0</td>\n",
       "    </tr>\n",
       "    <tr>\n",
       "      <th>3</th>\n",
       "      <td>2818</td>\n",
       "      <td>2025-03-06</td>\n",
       "      <td>True</td>\n",
       "      <td>89.0</td>\n",
       "      <td>3.0</td>\n",
       "    </tr>\n",
       "    <tr>\n",
       "      <th>4</th>\n",
       "      <td>2818</td>\n",
       "      <td>2025-03-07</td>\n",
       "      <td>True</td>\n",
       "      <td>89.0</td>\n",
       "      <td>3.0</td>\n",
       "    </tr>\n",
       "    <tr>\n",
       "      <th>5</th>\n",
       "      <td>2818</td>\n",
       "      <td>2025-03-08</td>\n",
       "      <td>True</td>\n",
       "      <td>89.0</td>\n",
       "      <td>3.0</td>\n",
       "    </tr>\n",
       "    <tr>\n",
       "      <th>6</th>\n",
       "      <td>2818</td>\n",
       "      <td>2025-03-09</td>\n",
       "      <td>False</td>\n",
       "      <td>89.0</td>\n",
       "      <td>3.0</td>\n",
       "    </tr>\n",
       "    <tr>\n",
       "      <th>7</th>\n",
       "      <td>2818</td>\n",
       "      <td>2025-03-10</td>\n",
       "      <td>False</td>\n",
       "      <td>89.0</td>\n",
       "      <td>3.0</td>\n",
       "    </tr>\n",
       "    <tr>\n",
       "      <th>8</th>\n",
       "      <td>2818</td>\n",
       "      <td>2025-03-11</td>\n",
       "      <td>False</td>\n",
       "      <td>89.0</td>\n",
       "      <td>3.0</td>\n",
       "    </tr>\n",
       "    <tr>\n",
       "      <th>9</th>\n",
       "      <td>2818</td>\n",
       "      <td>2025-03-12</td>\n",
       "      <td>False</td>\n",
       "      <td>89.0</td>\n",
       "      <td>3.0</td>\n",
       "    </tr>\n",
       "  </tbody>\n",
       "</table>\n",
       "</div>"
      ],
      "text/plain": [
       "   listing_id        date  available  price  minimum_nights\n",
       "0        2818  2025-03-03      False   89.0             3.0\n",
       "1        2818  2025-03-04       True   89.0             3.0\n",
       "2        2818  2025-03-05       True   89.0             3.0\n",
       "3        2818  2025-03-06       True   89.0             3.0\n",
       "4        2818  2025-03-07       True   89.0             3.0\n",
       "5        2818  2025-03-08       True   89.0             3.0\n",
       "6        2818  2025-03-09      False   89.0             3.0\n",
       "7        2818  2025-03-10      False   89.0             3.0\n",
       "8        2818  2025-03-11      False   89.0             3.0\n",
       "9        2818  2025-03-12      False   89.0             3.0"
      ]
     },
     "execution_count": 159,
     "metadata": {},
     "output_type": "execute_result"
    }
   ],
   "source": [
    "df_calendar.head(10)"
   ]
  },
  {
   "cell_type": "code",
   "execution_count": 160,
   "metadata": {},
   "outputs": [],
   "source": [
    "df_calendar[\"minimum_nights\"] = df_calendar[\"minimum_nights\"].astype(\"Int64\")  # Nullable integer type\n"
   ]
  },
  {
   "cell_type": "code",
   "execution_count": 161,
   "metadata": {},
   "outputs": [],
   "source": [
    "df_calendar.to_csv(\n",
    "    \"/Users/brunoramos/Desktop/Airbnb Project/output/cleaned_calendar_amsterdam.csv\",\n",
    "    index=False,\n",
    "    encoding=\"utf-8\",\n",
    "    quoting=1,\n",
    "    quotechar='\"',\n",
    "    escapechar='\\\\',\n",
    "    lineterminator='\\n'\n",
    ")\n"
   ]
  },
  {
   "cell_type": "code",
   "execution_count": 2,
   "metadata": {},
   "outputs": [],
   "source": [
    "import pandas as pd\n",
    "\n",
    "# Step 1: Load the original cleaned reviews\n",
    "df = pd.read_csv(\"../output/cleaned_reviews_amsterdam.csv\")\n",
    "\n",
    "# Step 2: Drop the 'comments' column\n",
    "df.drop(columns=[\"comments\"], inplace=True)\n",
    "\n",
    "# Step 3: Add the 'city' column\n",
    "df[\"city\"] = \"Amsterdam\"\n",
    "\n",
    "# Step 4: Export to a new CSV for manual upload\n",
    "df.to_csv(\"../output/cleaned_reviews_amsterdam.csv\", index=False)\n",
    "\n"
   ]
  },
  {
   "cell_type": "code",
   "execution_count": 4,
   "metadata": {},
   "outputs": [
    {
     "name": "stderr",
     "output_type": "stream",
     "text": [
      "/var/folders/xb/rzlp256d1yv_tzq65s6kvnh40000gn/T/ipykernel_34424/1016412362.py:1: DtypeWarning: Columns (4) have mixed types. Specify dtype option on import or set low_memory=False.\n",
      "  df = pd.read_csv(\"../data/paris/calendar.csv\")\n"
     ]
    }
   ],
   "source": [
    "df = pd.read_csv(\"../data/paris/calendar.csv\")\n"
   ]
  },
  {
   "cell_type": "code",
   "execution_count": 5,
   "metadata": {},
   "outputs": [
    {
     "data": {
      "text/html": [
       "<div>\n",
       "<style scoped>\n",
       "    .dataframe tbody tr th:only-of-type {\n",
       "        vertical-align: middle;\n",
       "    }\n",
       "\n",
       "    .dataframe tbody tr th {\n",
       "        vertical-align: top;\n",
       "    }\n",
       "\n",
       "    .dataframe thead th {\n",
       "        text-align: right;\n",
       "    }\n",
       "</style>\n",
       "<table border=\"1\" class=\"dataframe\">\n",
       "  <thead>\n",
       "    <tr style=\"text-align: right;\">\n",
       "      <th></th>\n",
       "      <th>listing_id</th>\n",
       "      <th>date</th>\n",
       "      <th>available</th>\n",
       "      <th>price</th>\n",
       "      <th>adjusted_price</th>\n",
       "      <th>minimum_nights</th>\n",
       "      <th>maximum_nights</th>\n",
       "    </tr>\n",
       "  </thead>\n",
       "  <tbody>\n",
       "    <tr>\n",
       "      <th>0</th>\n",
       "      <td>3109</td>\n",
       "      <td>2024-12-07</td>\n",
       "      <td>f</td>\n",
       "      <td>$100.00</td>\n",
       "      <td>NaN</td>\n",
       "      <td>2.0</td>\n",
       "      <td>30.0</td>\n",
       "    </tr>\n",
       "    <tr>\n",
       "      <th>1</th>\n",
       "      <td>3109</td>\n",
       "      <td>2024-12-08</td>\n",
       "      <td>t</td>\n",
       "      <td>$100.00</td>\n",
       "      <td>NaN</td>\n",
       "      <td>2.0</td>\n",
       "      <td>30.0</td>\n",
       "    </tr>\n",
       "    <tr>\n",
       "      <th>2</th>\n",
       "      <td>3109</td>\n",
       "      <td>2024-12-09</td>\n",
       "      <td>f</td>\n",
       "      <td>$100.00</td>\n",
       "      <td>NaN</td>\n",
       "      <td>2.0</td>\n",
       "      <td>30.0</td>\n",
       "    </tr>\n",
       "    <tr>\n",
       "      <th>3</th>\n",
       "      <td>3109</td>\n",
       "      <td>2024-12-10</td>\n",
       "      <td>f</td>\n",
       "      <td>$100.00</td>\n",
       "      <td>NaN</td>\n",
       "      <td>2.0</td>\n",
       "      <td>30.0</td>\n",
       "    </tr>\n",
       "    <tr>\n",
       "      <th>4</th>\n",
       "      <td>3109</td>\n",
       "      <td>2024-12-11</td>\n",
       "      <td>f</td>\n",
       "      <td>$100.00</td>\n",
       "      <td>NaN</td>\n",
       "      <td>2.0</td>\n",
       "      <td>30.0</td>\n",
       "    </tr>\n",
       "    <tr>\n",
       "      <th>5</th>\n",
       "      <td>3109</td>\n",
       "      <td>2024-12-12</td>\n",
       "      <td>f</td>\n",
       "      <td>$100.00</td>\n",
       "      <td>NaN</td>\n",
       "      <td>2.0</td>\n",
       "      <td>30.0</td>\n",
       "    </tr>\n",
       "    <tr>\n",
       "      <th>6</th>\n",
       "      <td>3109</td>\n",
       "      <td>2024-12-13</td>\n",
       "      <td>t</td>\n",
       "      <td>$100.00</td>\n",
       "      <td>NaN</td>\n",
       "      <td>2.0</td>\n",
       "      <td>30.0</td>\n",
       "    </tr>\n",
       "    <tr>\n",
       "      <th>7</th>\n",
       "      <td>3109</td>\n",
       "      <td>2024-12-14</td>\n",
       "      <td>t</td>\n",
       "      <td>$100.00</td>\n",
       "      <td>NaN</td>\n",
       "      <td>2.0</td>\n",
       "      <td>30.0</td>\n",
       "    </tr>\n",
       "    <tr>\n",
       "      <th>8</th>\n",
       "      <td>3109</td>\n",
       "      <td>2024-12-15</td>\n",
       "      <td>t</td>\n",
       "      <td>$100.00</td>\n",
       "      <td>NaN</td>\n",
       "      <td>2.0</td>\n",
       "      <td>30.0</td>\n",
       "    </tr>\n",
       "    <tr>\n",
       "      <th>9</th>\n",
       "      <td>3109</td>\n",
       "      <td>2024-12-16</td>\n",
       "      <td>f</td>\n",
       "      <td>$100.00</td>\n",
       "      <td>NaN</td>\n",
       "      <td>2.0</td>\n",
       "      <td>30.0</td>\n",
       "    </tr>\n",
       "  </tbody>\n",
       "</table>\n",
       "</div>"
      ],
      "text/plain": [
       "   listing_id        date available    price adjusted_price  minimum_nights  \\\n",
       "0        3109  2024-12-07         f  $100.00            NaN             2.0   \n",
       "1        3109  2024-12-08         t  $100.00            NaN             2.0   \n",
       "2        3109  2024-12-09         f  $100.00            NaN             2.0   \n",
       "3        3109  2024-12-10         f  $100.00            NaN             2.0   \n",
       "4        3109  2024-12-11         f  $100.00            NaN             2.0   \n",
       "5        3109  2024-12-12         f  $100.00            NaN             2.0   \n",
       "6        3109  2024-12-13         t  $100.00            NaN             2.0   \n",
       "7        3109  2024-12-14         t  $100.00            NaN             2.0   \n",
       "8        3109  2024-12-15         t  $100.00            NaN             2.0   \n",
       "9        3109  2024-12-16         f  $100.00            NaN             2.0   \n",
       "\n",
       "   maximum_nights  \n",
       "0            30.0  \n",
       "1            30.0  \n",
       "2            30.0  \n",
       "3            30.0  \n",
       "4            30.0  \n",
       "5            30.0  \n",
       "6            30.0  \n",
       "7            30.0  \n",
       "8            30.0  \n",
       "9            30.0  "
      ]
     },
     "execution_count": 5,
     "metadata": {},
     "output_type": "execute_result"
    }
   ],
   "source": [
    "df.head(10)"
   ]
  },
  {
   "cell_type": "code",
   "execution_count": 10,
   "metadata": {},
   "outputs": [],
   "source": [
    "df_clean = pd.read_csv(\"../output/cleaned_calendar_paris.csv\")\n",
    "\n"
   ]
  },
  {
   "cell_type": "code",
   "execution_count": 11,
   "metadata": {},
   "outputs": [
    {
     "data": {
      "text/html": [
       "<div>\n",
       "<style scoped>\n",
       "    .dataframe tbody tr th:only-of-type {\n",
       "        vertical-align: middle;\n",
       "    }\n",
       "\n",
       "    .dataframe tbody tr th {\n",
       "        vertical-align: top;\n",
       "    }\n",
       "\n",
       "    .dataframe thead th {\n",
       "        text-align: right;\n",
       "    }\n",
       "</style>\n",
       "<table border=\"1\" class=\"dataframe\">\n",
       "  <thead>\n",
       "    <tr style=\"text-align: right;\">\n",
       "      <th></th>\n",
       "      <th>listing_id</th>\n",
       "      <th>date</th>\n",
       "      <th>available</th>\n",
       "      <th>price</th>\n",
       "      <th>minimum_nights</th>\n",
       "      <th>city</th>\n",
       "    </tr>\n",
       "  </thead>\n",
       "  <tbody>\n",
       "    <tr>\n",
       "      <th>0</th>\n",
       "      <td>12452</td>\n",
       "      <td>2024-12-08</td>\n",
       "      <td>True</td>\n",
       "      <td>200.0</td>\n",
       "      <td>3.0</td>\n",
       "      <td>paris</td>\n",
       "    </tr>\n",
       "    <tr>\n",
       "      <th>1</th>\n",
       "      <td>12452</td>\n",
       "      <td>2024-12-09</td>\n",
       "      <td>True</td>\n",
       "      <td>200.0</td>\n",
       "      <td>3.0</td>\n",
       "      <td>paris</td>\n",
       "    </tr>\n",
       "    <tr>\n",
       "      <th>2</th>\n",
       "      <td>12452</td>\n",
       "      <td>2024-12-10</td>\n",
       "      <td>True</td>\n",
       "      <td>200.0</td>\n",
       "      <td>3.0</td>\n",
       "      <td>paris</td>\n",
       "    </tr>\n",
       "    <tr>\n",
       "      <th>3</th>\n",
       "      <td>12452</td>\n",
       "      <td>2024-12-11</td>\n",
       "      <td>True</td>\n",
       "      <td>200.0</td>\n",
       "      <td>3.0</td>\n",
       "      <td>paris</td>\n",
       "    </tr>\n",
       "    <tr>\n",
       "      <th>4</th>\n",
       "      <td>12452</td>\n",
       "      <td>2024-12-12</td>\n",
       "      <td>True</td>\n",
       "      <td>200.0</td>\n",
       "      <td>3.0</td>\n",
       "      <td>paris</td>\n",
       "    </tr>\n",
       "    <tr>\n",
       "      <th>5</th>\n",
       "      <td>12452</td>\n",
       "      <td>2024-12-13</td>\n",
       "      <td>False</td>\n",
       "      <td>200.0</td>\n",
       "      <td>3.0</td>\n",
       "      <td>paris</td>\n",
       "    </tr>\n",
       "    <tr>\n",
       "      <th>6</th>\n",
       "      <td>12452</td>\n",
       "      <td>2024-12-14</td>\n",
       "      <td>False</td>\n",
       "      <td>200.0</td>\n",
       "      <td>3.0</td>\n",
       "      <td>paris</td>\n",
       "    </tr>\n",
       "    <tr>\n",
       "      <th>7</th>\n",
       "      <td>12452</td>\n",
       "      <td>2024-12-15</td>\n",
       "      <td>True</td>\n",
       "      <td>200.0</td>\n",
       "      <td>3.0</td>\n",
       "      <td>paris</td>\n",
       "    </tr>\n",
       "    <tr>\n",
       "      <th>8</th>\n",
       "      <td>12452</td>\n",
       "      <td>2024-12-16</td>\n",
       "      <td>False</td>\n",
       "      <td>200.0</td>\n",
       "      <td>3.0</td>\n",
       "      <td>paris</td>\n",
       "    </tr>\n",
       "    <tr>\n",
       "      <th>9</th>\n",
       "      <td>12452</td>\n",
       "      <td>2024-12-17</td>\n",
       "      <td>False</td>\n",
       "      <td>200.0</td>\n",
       "      <td>3.0</td>\n",
       "      <td>paris</td>\n",
       "    </tr>\n",
       "  </tbody>\n",
       "</table>\n",
       "</div>"
      ],
      "text/plain": [
       "   listing_id        date  available  price  minimum_nights   city\n",
       "0       12452  2024-12-08       True  200.0             3.0  paris\n",
       "1       12452  2024-12-09       True  200.0             3.0  paris\n",
       "2       12452  2024-12-10       True  200.0             3.0  paris\n",
       "3       12452  2024-12-11       True  200.0             3.0  paris\n",
       "4       12452  2024-12-12       True  200.0             3.0  paris\n",
       "5       12452  2024-12-13      False  200.0             3.0  paris\n",
       "6       12452  2024-12-14      False  200.0             3.0  paris\n",
       "7       12452  2024-12-15       True  200.0             3.0  paris\n",
       "8       12452  2024-12-16      False  200.0             3.0  paris\n",
       "9       12452  2024-12-17      False  200.0             3.0  paris"
      ]
     },
     "execution_count": 11,
     "metadata": {},
     "output_type": "execute_result"
    }
   ],
   "source": [
    "df_clean.head(10)"
   ]
  },
  {
   "cell_type": "code",
   "execution_count": 13,
   "metadata": {},
   "outputs": [
    {
     "data": {
      "text/plain": [
       "str"
      ]
     },
     "execution_count": 13,
     "metadata": {},
     "output_type": "execute_result"
    }
   ],
   "source": [
    "type(df_clean[\"date\"][0])"
   ]
  },
  {
   "cell_type": "code",
   "execution_count": 14,
   "metadata": {},
   "outputs": [
    {
     "name": "stdout",
     "output_type": "stream",
     "text": [
      "The dataset spans from 2024 to 2025.\n"
     ]
    }
   ],
   "source": [
    "# Convert the 'date' column to datetime format\n",
    "df_clean['date'] = pd.to_datetime(df_clean['date'], errors='coerce')\n",
    "\n",
    "# Extract the year from the 'date' column\n",
    "df_clean['year'] = df_clean['date'].dt.year\n",
    "\n",
    "# Calculate the range of years in the dataset\n",
    "year_range = df_clean['year'].min(), df_clean['year'].max()\n",
    "\n",
    "# Show the range of years\n",
    "print(f\"The dataset spans from {year_range[0]} to {year_range[1]}.\")"
   ]
  },
  {
   "cell_type": "code",
   "execution_count": 15,
   "metadata": {},
   "outputs": [],
   "source": [
    "df_clean1 = pd.read_csv(\"../output/cleaned_calendar_amsterdam.csv\")"
   ]
  },
  {
   "cell_type": "code",
   "execution_count": 16,
   "metadata": {},
   "outputs": [
    {
     "data": {
      "text/html": [
       "<div>\n",
       "<style scoped>\n",
       "    .dataframe tbody tr th:only-of-type {\n",
       "        vertical-align: middle;\n",
       "    }\n",
       "\n",
       "    .dataframe tbody tr th {\n",
       "        vertical-align: top;\n",
       "    }\n",
       "\n",
       "    .dataframe thead th {\n",
       "        text-align: right;\n",
       "    }\n",
       "</style>\n",
       "<table border=\"1\" class=\"dataframe\">\n",
       "  <thead>\n",
       "    <tr style=\"text-align: right;\">\n",
       "      <th></th>\n",
       "      <th>listing_id</th>\n",
       "      <th>date</th>\n",
       "      <th>available</th>\n",
       "      <th>price</th>\n",
       "      <th>minimum_nights</th>\n",
       "    </tr>\n",
       "  </thead>\n",
       "  <tbody>\n",
       "    <tr>\n",
       "      <th>0</th>\n",
       "      <td>2818</td>\n",
       "      <td>2025-03-03</td>\n",
       "      <td>False</td>\n",
       "      <td>89.0</td>\n",
       "      <td>3</td>\n",
       "    </tr>\n",
       "    <tr>\n",
       "      <th>1</th>\n",
       "      <td>2818</td>\n",
       "      <td>2025-03-04</td>\n",
       "      <td>True</td>\n",
       "      <td>89.0</td>\n",
       "      <td>3</td>\n",
       "    </tr>\n",
       "    <tr>\n",
       "      <th>2</th>\n",
       "      <td>2818</td>\n",
       "      <td>2025-03-05</td>\n",
       "      <td>True</td>\n",
       "      <td>89.0</td>\n",
       "      <td>3</td>\n",
       "    </tr>\n",
       "    <tr>\n",
       "      <th>3</th>\n",
       "      <td>2818</td>\n",
       "      <td>2025-03-06</td>\n",
       "      <td>True</td>\n",
       "      <td>89.0</td>\n",
       "      <td>3</td>\n",
       "    </tr>\n",
       "    <tr>\n",
       "      <th>4</th>\n",
       "      <td>2818</td>\n",
       "      <td>2025-03-07</td>\n",
       "      <td>True</td>\n",
       "      <td>89.0</td>\n",
       "      <td>3</td>\n",
       "    </tr>\n",
       "    <tr>\n",
       "      <th>5</th>\n",
       "      <td>2818</td>\n",
       "      <td>2025-03-08</td>\n",
       "      <td>True</td>\n",
       "      <td>89.0</td>\n",
       "      <td>3</td>\n",
       "    </tr>\n",
       "    <tr>\n",
       "      <th>6</th>\n",
       "      <td>2818</td>\n",
       "      <td>2025-03-09</td>\n",
       "      <td>False</td>\n",
       "      <td>89.0</td>\n",
       "      <td>3</td>\n",
       "    </tr>\n",
       "    <tr>\n",
       "      <th>7</th>\n",
       "      <td>2818</td>\n",
       "      <td>2025-03-10</td>\n",
       "      <td>False</td>\n",
       "      <td>89.0</td>\n",
       "      <td>3</td>\n",
       "    </tr>\n",
       "    <tr>\n",
       "      <th>8</th>\n",
       "      <td>2818</td>\n",
       "      <td>2025-03-11</td>\n",
       "      <td>False</td>\n",
       "      <td>89.0</td>\n",
       "      <td>3</td>\n",
       "    </tr>\n",
       "    <tr>\n",
       "      <th>9</th>\n",
       "      <td>2818</td>\n",
       "      <td>2025-03-12</td>\n",
       "      <td>False</td>\n",
       "      <td>89.0</td>\n",
       "      <td>3</td>\n",
       "    </tr>\n",
       "  </tbody>\n",
       "</table>\n",
       "</div>"
      ],
      "text/plain": [
       "   listing_id        date  available  price  minimum_nights\n",
       "0        2818  2025-03-03      False   89.0               3\n",
       "1        2818  2025-03-04       True   89.0               3\n",
       "2        2818  2025-03-05       True   89.0               3\n",
       "3        2818  2025-03-06       True   89.0               3\n",
       "4        2818  2025-03-07       True   89.0               3\n",
       "5        2818  2025-03-08       True   89.0               3\n",
       "6        2818  2025-03-09      False   89.0               3\n",
       "7        2818  2025-03-10      False   89.0               3\n",
       "8        2818  2025-03-11      False   89.0               3\n",
       "9        2818  2025-03-12      False   89.0               3"
      ]
     },
     "execution_count": 16,
     "metadata": {},
     "output_type": "execute_result"
    }
   ],
   "source": [
    "df_clean1.head(10)"
   ]
  },
  {
   "cell_type": "code",
   "execution_count": 22,
   "metadata": {},
   "outputs": [
    {
     "name": "stdout",
     "output_type": "stream",
     "text": [
      "   year  total_bookings\n",
      "0  2025         1798868\n",
      "1  2026          358613\n"
     ]
    }
   ],
   "source": [
    "# First, make sure the 'date' column is in datetime format\n",
    "df_clean1['date'] = pd.to_datetime(df_clean1['date'], errors='coerce')\n",
    "\n",
    "# Now extract the year from the 'date' column\n",
    "df_clean1['year'] = df_clean1['date'].dt.year\n",
    "\n",
    "# Count all bookings (all rows) per year\n",
    "bookings_per_year = df_clean1.groupby('year').size().reset_index(name='total_bookings')\n",
    "\n",
    "# Show the result\n",
    "print(bookings_per_year)"
   ]
  },
  {
   "cell_type": "code",
   "execution_count": 2,
   "metadata": {},
   "outputs": [],
   "source": [
    "import pandas as pd\n",
    "\n",
    "df_clean1 = pd.read_csv(\"../output/cleaned_calendar_amsterdam.csv\")"
   ]
  },
  {
   "cell_type": "code",
   "execution_count": 3,
   "metadata": {},
   "outputs": [
    {
     "data": {
      "text/html": [
       "<div>\n",
       "<style scoped>\n",
       "    .dataframe tbody tr th:only-of-type {\n",
       "        vertical-align: middle;\n",
       "    }\n",
       "\n",
       "    .dataframe tbody tr th {\n",
       "        vertical-align: top;\n",
       "    }\n",
       "\n",
       "    .dataframe thead th {\n",
       "        text-align: right;\n",
       "    }\n",
       "</style>\n",
       "<table border=\"1\" class=\"dataframe\">\n",
       "  <thead>\n",
       "    <tr style=\"text-align: right;\">\n",
       "      <th></th>\n",
       "      <th>listing_id</th>\n",
       "      <th>date</th>\n",
       "      <th>available</th>\n",
       "      <th>price</th>\n",
       "      <th>minimum_nights</th>\n",
       "    </tr>\n",
       "  </thead>\n",
       "  <tbody>\n",
       "    <tr>\n",
       "      <th>0</th>\n",
       "      <td>2818</td>\n",
       "      <td>2025-03-03</td>\n",
       "      <td>False</td>\n",
       "      <td>89.0</td>\n",
       "      <td>3</td>\n",
       "    </tr>\n",
       "    <tr>\n",
       "      <th>1</th>\n",
       "      <td>2818</td>\n",
       "      <td>2025-03-04</td>\n",
       "      <td>True</td>\n",
       "      <td>89.0</td>\n",
       "      <td>3</td>\n",
       "    </tr>\n",
       "    <tr>\n",
       "      <th>2</th>\n",
       "      <td>2818</td>\n",
       "      <td>2025-03-05</td>\n",
       "      <td>True</td>\n",
       "      <td>89.0</td>\n",
       "      <td>3</td>\n",
       "    </tr>\n",
       "    <tr>\n",
       "      <th>3</th>\n",
       "      <td>2818</td>\n",
       "      <td>2025-03-06</td>\n",
       "      <td>True</td>\n",
       "      <td>89.0</td>\n",
       "      <td>3</td>\n",
       "    </tr>\n",
       "    <tr>\n",
       "      <th>4</th>\n",
       "      <td>2818</td>\n",
       "      <td>2025-03-07</td>\n",
       "      <td>True</td>\n",
       "      <td>89.0</td>\n",
       "      <td>3</td>\n",
       "    </tr>\n",
       "    <tr>\n",
       "      <th>5</th>\n",
       "      <td>2818</td>\n",
       "      <td>2025-03-08</td>\n",
       "      <td>True</td>\n",
       "      <td>89.0</td>\n",
       "      <td>3</td>\n",
       "    </tr>\n",
       "    <tr>\n",
       "      <th>6</th>\n",
       "      <td>2818</td>\n",
       "      <td>2025-03-09</td>\n",
       "      <td>False</td>\n",
       "      <td>89.0</td>\n",
       "      <td>3</td>\n",
       "    </tr>\n",
       "    <tr>\n",
       "      <th>7</th>\n",
       "      <td>2818</td>\n",
       "      <td>2025-03-10</td>\n",
       "      <td>False</td>\n",
       "      <td>89.0</td>\n",
       "      <td>3</td>\n",
       "    </tr>\n",
       "    <tr>\n",
       "      <th>8</th>\n",
       "      <td>2818</td>\n",
       "      <td>2025-03-11</td>\n",
       "      <td>False</td>\n",
       "      <td>89.0</td>\n",
       "      <td>3</td>\n",
       "    </tr>\n",
       "    <tr>\n",
       "      <th>9</th>\n",
       "      <td>2818</td>\n",
       "      <td>2025-03-12</td>\n",
       "      <td>False</td>\n",
       "      <td>89.0</td>\n",
       "      <td>3</td>\n",
       "    </tr>\n",
       "  </tbody>\n",
       "</table>\n",
       "</div>"
      ],
      "text/plain": [
       "   listing_id        date  available  price  minimum_nights\n",
       "0        2818  2025-03-03      False   89.0               3\n",
       "1        2818  2025-03-04       True   89.0               3\n",
       "2        2818  2025-03-05       True   89.0               3\n",
       "3        2818  2025-03-06       True   89.0               3\n",
       "4        2818  2025-03-07       True   89.0               3\n",
       "5        2818  2025-03-08       True   89.0               3\n",
       "6        2818  2025-03-09      False   89.0               3\n",
       "7        2818  2025-03-10      False   89.0               3\n",
       "8        2818  2025-03-11      False   89.0               3\n",
       "9        2818  2025-03-12      False   89.0               3"
      ]
     },
     "execution_count": 3,
     "metadata": {},
     "output_type": "execute_result"
    }
   ],
   "source": [
    "df_clean1.head(10)"
   ]
  },
  {
   "cell_type": "code",
   "execution_count": null,
   "metadata": {},
   "outputs": [
    {
     "name": "stdout",
     "output_type": "stream",
     "text": [
      "Hello, adbfs!\n"
     ]
    }
   ],
   "source": []
  },
  {
   "cell_type": "code",
   "execution_count": null,
   "metadata": {},
   "outputs": [],
   "source": []
  }
 ],
 "metadata": {
  "kernelspec": {
   "display_name": "base",
   "language": "python",
   "name": "python3"
  },
  "language_info": {
   "codemirror_mode": {
    "name": "ipython",
    "version": 3
   },
   "file_extension": ".py",
   "mimetype": "text/x-python",
   "name": "python",
   "nbconvert_exporter": "python",
   "pygments_lexer": "ipython3",
   "version": "3.12.7"
  }
 },
 "nbformat": 4,
 "nbformat_minor": 2
}
